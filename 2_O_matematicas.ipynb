{
 "cells": [
  {
   "cell_type": "markdown",
   "id": "394cda40-38ad-4031-994d-a856b00f98f9",
   "metadata": {},
   "source": [
    "![image](https://www.earth.ac.cr/wp-content/themes/cummins/images/logo-es.png)\n",
    "### Curso de Programación aplicada a la agricultura\n",
    "### Material de apoyo Tema Introducción orientada a Objetos\n",
    "### Jupyter_2. Funciones matemáticas habituales en Python\n",
    "\n",
    "### Preparado por:\n",
    "Prof. Gregory Guevara, \n",
    "Enero 2023, gguevara@earth.ac.cr\n"
   ]
  },
  {
   "cell_type": "markdown",
   "id": "1c67dea8-3e79-4951-94d2-8ef1bcffffee",
   "metadata": {},
   "source": [
    "### Suma / Resta / Multiplicación / División"
   ]
  },
  {
   "cell_type": "code",
   "execution_count": 10,
   "id": "702fa479-5a19-4963-9e6a-68121825d113",
   "metadata": {},
   "outputs": [
    {
     "name": "stdout",
     "output_type": "stream",
     "text": [
      "4\n"
     ]
    }
   ],
   "source": [
    "#suma\n",
    "a=2\n",
    "b=2\n",
    "c=a+b\n",
    "print (c)"
   ]
  },
  {
   "cell_type": "code",
   "execution_count": 11,
   "id": "0ae6d17e-2803-4908-94b8-d1703da5527b",
   "metadata": {},
   "outputs": [
    {
     "name": "stdout",
     "output_type": "stream",
     "text": [
      "0\n"
     ]
    }
   ],
   "source": [
    "#resta\n",
    "a=2\n",
    "b=2\n",
    "c=a-b\n",
    "print (c)"
   ]
  },
  {
   "cell_type": "code",
   "execution_count": 12,
   "id": "b1a4813d-3312-4a66-a10b-b6da7de75791",
   "metadata": {},
   "outputs": [
    {
     "name": "stdout",
     "output_type": "stream",
     "text": [
      "cociente = 6.0\n",
      "Cociente_exacto = 6\n",
      "residuo = 0\n"
     ]
    }
   ],
   "source": [
    "#división\n",
    "a=18\n",
    "b=3\n",
    "\n",
    "cociente=a/b\n",
    "print (\"cociente =\",cociente)\n",
    "\n",
    "Cociente_exacto=a//b\n",
    "print (\"Cociente_exacto =\",Cociente_exacto)\n",
    "\n",
    "residuo=a%b\n",
    "print (\"residuo =\",residuo)"
   ]
  },
  {
   "cell_type": "code",
   "execution_count": 13,
   "id": "b5cc32c2-ab17-4797-a3ca-a446fe5f7fb2",
   "metadata": {},
   "outputs": [
    {
     "name": "stdout",
     "output_type": "stream",
     "text": [
      "multiplicación = 9\n",
      "potencia = 27\n"
     ]
    }
   ],
   "source": [
    "#multiplicacion y potencia\n",
    "a=3\n",
    "b=3\n",
    "multiplicación=a*b\n",
    "print (\"multiplicación =\",multiplicación)\n",
    "potencia=a**b\n",
    "print (\"potencia =\",potencia)"
   ]
  },
  {
   "cell_type": "markdown",
   "id": "493329cb-1b93-41e6-b367-6681d91d52f7",
   "metadata": {},
   "source": [
    "### Funciones trigonométricas \n",
    "\n",
    "![Imagen](https://s5.static.brasilescola.uol.com.br/be/2021/06/circulo-trigonometrico-sinais-tangente.jpg)"
   ]
  },
  {
   "cell_type": "code",
   "execution_count": 14,
   "id": "91776365-f2ba-4803-bd85-8dcc29276d2f",
   "metadata": {},
   "outputs": [],
   "source": [
    "import math "
   ]
  },
  {
   "cell_type": "code",
   "execution_count": 15,
   "id": "9e539982-0a96-4890-b3ab-95cd09792955",
   "metadata": {},
   "outputs": [
    {
     "name": "stdout",
     "output_type": "stream",
     "text": [
      "1.5707963267948966\n"
     ]
    }
   ],
   "source": [
    "angulo=math.pi/2\n",
    "print (angulo)"
   ]
  },
  {
   "cell_type": "code",
   "execution_count": 16,
   "id": "948fe386-b124-4baf-a5a0-049edcfde444",
   "metadata": {},
   "outputs": [
    {
     "name": "stdout",
     "output_type": "stream",
     "text": [
      "coseno = 6.123233995736766e-17\n",
      "coseno_redondear = 0.0\n",
      "***************\n",
      "seno = 1.0\n",
      "seno_redondear = 1.0\n",
      "***************\n",
      "tangente = 1.633123935319537e+16\n",
      "tangente_redondear = 1.633123935319537e+16\n",
      "***************\n"
     ]
    }
   ],
   "source": [
    "coseno=math.cos(angulo)\n",
    "print (\"coseno =\",coseno)\n",
    "coseno_redondear=round(coseno,2)\n",
    "print (\"coseno_redondear =\",coseno_redondear)\n",
    "print(\"***************\")\n",
    "\n",
    "seno=math.sin(angulo)\n",
    "print (\"seno =\",seno)\n",
    "seno_redondear=round(seno,2)\n",
    "print (\"seno_redondear =\",seno_redondear)\n",
    "print(\"***************\")\n",
    "\n",
    "tangente=math.tan(angulo)\n",
    "print (\"tangente =\",tangente)\n",
    "tangente_redondear=round(tangente,2)\n",
    "print (\"tangente_redondear =\",tangente_redondear)\n",
    "print(\"***************\")"
   ]
  },
  {
   "cell_type": "markdown",
   "id": "6d8d2a2e-55a0-48c4-9c78-a41d58910165",
   "metadata": {},
   "source": [
    "### otras funciones "
   ]
  },
  {
   "cell_type": "code",
   "execution_count": 17,
   "id": "6b0c7159-ef77-4c20-9a6e-711c066bdb5c",
   "metadata": {},
   "outputs": [
    {
     "name": "stdout",
     "output_type": "stream",
     "text": [
      "5.0\n"
     ]
    }
   ],
   "source": [
    "#raíz cuadrada#\n",
    "a=25\n",
    "b= math.sqrt(a)\n",
    "print (b)"
   ]
  },
  {
   "cell_type": "code",
   "execution_count": 18,
   "id": "b2b4b649-9087-43c4-80f6-517c666e0a93",
   "metadata": {},
   "outputs": [
    {
     "name": "stdout",
     "output_type": "stream",
     "text": [
      "5.0\n"
     ]
    }
   ],
   "source": [
    "#otra forma directa es:\n",
    "print(math.sqrt(25))"
   ]
  }
 ],
 "metadata": {
  "kernelspec": {
   "display_name": "Python 3 (ipykernel)",
   "language": "python",
   "name": "python3"
  },
  "language_info": {
   "codemirror_mode": {
    "name": "ipython",
    "version": 3
   },
   "file_extension": ".py",
   "mimetype": "text/x-python",
   "name": "python",
   "nbconvert_exporter": "python",
   "pygments_lexer": "ipython3",
   "version": "3.9.7"
  }
 },
 "nbformat": 4,
 "nbformat_minor": 5
}
