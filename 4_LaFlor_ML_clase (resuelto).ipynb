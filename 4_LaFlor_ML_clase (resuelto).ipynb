{
 "cells": [
  {
   "cell_type": "markdown",
   "metadata": {
    "id": "vIG-5R69JOVU"
   },
   "source": []
  },
  {
   "cell_type": "markdown",
   "metadata": {
    "id": "vCTBRCShUhGb"
   },
   "source": [
    "![image](https://www.earth.ac.cr/wp-content/themes/cummins/images/logo-es.png)\n",
    "## Curso de Programación aplicada a la agricultura\n",
    "###Material de apoyo Tema Análisis de Datos\n",
    "# Jupyter_5 Principios de los algoritmos de aprendizaje automático\n",
    "\n",
    "### Preparado por:\n",
    "Prof. Gregory Guevara, \n",
    "Enero 2023, gguevara@earth.ac.cr\n",
    "\n",
    "\n",
    "**Aprendizaje Automatico**"
   ]
  },
  {
   "cell_type": "markdown",
   "metadata": {
    "id": "rc506--KMJgT"
   },
   "source": [
    "Principios de Aprendizaje Supervisado##\n",
    "\n",
    "En este trabajo se seleccionará un conjunto de datos (dataset) de alguna de las fuentes propuestas en clase, o bien de algún repositorio que considere oportuno. Se llevarán a cabo diferentes tareas de aprendizaje automático (tipo benchmark) y se hará un análisis de los resultados y estrategia de diseño de los diferentes experimentos propuestos por ustedes."
   ]
  },
  {
   "cell_type": "markdown",
   "metadata": {
    "id": "jmoxhNpL6SGX"
   },
   "source": [
    "Diagrama: ![](https://cdn-images-1.medium.com/max/1600/1*eE8DP4biqtaIK3aIy1S2zA.png)"
   ]
  },
  {
   "cell_type": "markdown",
   "metadata": {
    "id": "_0jUBsPs3MaP"
   },
   "source": [
    "En el segundo, se construyen varios modelos secuencialmente y se intenta reducir el sesgo del modelo combinado. El objetivo es construir varios modelos débiles para producir un modelo fuerte. Ejemplos: AdaBoost y Gradient Tree Boosting."
   ]
  },
  {
   "cell_type": "markdown",
   "metadata": {
    "id": "beh_8JuZ6_Ic"
   },
   "source": [
    "Diagrama: ![](https://live.staticflickr.com/65535/48051633738_096b38a7db_b.jpg)"
   ]
  },
  {
   "cell_type": "markdown",
   "metadata": {
    "id": "oesC0A-J3uAd"
   },
   "source": [
    "Fuentes:\n",
    "\n",
    "https://scikit-learn.org/stable/modules/ensemble.html\n",
    "\n",
    "https://aprendeia.com/metodos-de-ensamble-de-modelos-machine-learning-ensemble-methods-en-espanol/#:~:text=Los%20m%C3%A9todos%20de%20ensamble%20de%20modelos%20o%20m%C3%A9todos,problema%20particular.%20Pero%20veamos%20esto%20con%20un%20ejemplo%3A\n",
    "\n"
   ]
  },
  {
   "cell_type": "markdown",
   "metadata": {
    "id": "Cs9VWkZS7GM3"
   },
   "source": [
    "#Preprocesado de los Datos#"
   ]
  },
  {
   "cell_type": "code",
   "execution_count": 1,
   "metadata": {
    "id": "moY-EwMCrWN-"
   },
   "outputs": [],
   "source": [
    "import torch \n",
    "import math \n",
    "import numpy as np\n",
    "from sklearn.preprocessing import MinMaxScaler\n",
    "import seaborn as sns\n",
    "import matplotlib.pyplot as plt\n",
    "\n",
    "import pandas as pd"
   ]
  },
  {
   "cell_type": "markdown",
   "metadata": {
    "id": "4kE-CNFjrWN_"
   },
   "source": [
    "##Paso 1. Descripción de los datos.\n",
    "## Análisis de un DATA SET climático para evaluar relaciones entre parámetros metereológicos. \n",
    "\n",
    "Fuente de data: \n",
    "![](https://power.larc.nasa.gov/data-access-viewer/widgets/Information/images/POWER_logo.png)\n",
    "\n",
    "El conjunto de datos fue tomado de NASA/POWER DATA ACCESS https://power.larc.nasa.gov/data-access-viewer/ , capturando datos climáticos de los misiones satelitales \n",
    " - CERES y M\n",
    " - ERRA2 Native Resolution Daily Data\n",
    "\n",
    "\n",
    "#### Datos Geográficos   \n",
    "- Latitude  10.6259   \n",
    "- Longitude -85.5294 \n",
    "- Finca Campus LA FLOR Universidad EARTH.\n",
    "- Libería Guanacaste \n",
    "\n",
    "##### Datos Temporales \n",
    "- Fecha de incio: 1 de enero del 2001\n",
    "- Fecha final: 31 de diciembre del 2020\n",
    "- 2 Décadas de datos climáticos \n",
    "\n",
    "De esta herramienta se descargo las 2 últimas decadas de datos climáticos a partir de satelites de NASA en sus misiones MERRA-2 y CERES. \n",
    "\n",
    "### Objetivo \n",
    "\n",
    "Analizar el comportamiento de la EVAPOTRANSPIRACION (requerimiento de agua por el ambiente) en términos de otras variables climáticas, usando Data sets \n",
    "\n",
    "### Descripción de los datos \n",
    "\n",
    "El conjunto de datos, en formato CSV (columnas separadas por coma), contiene 10 columnas, las columnas según su orden indica lo siguiente \n",
    "\n",
    "0. year: años de los datos, los cuales van desde 2001 hasta el 2020 (2 decadas)\n",
    "1. DOY: day of the year (día del año)\n",
    "2. top_rad:  top_radiation o radiación al tope de la admósfera (MJ/m2/día)\n",
    "3. surface_rad: Radiación en la superficie de la tierra (MJ/m2/día)\n",
    "4. uva-ra: radiación ultravioleta (W/m2-día)\n",
    "5. t_min: temperatura mínima (°C)\n",
    "6. t_max: temperatura máxima (°C) \n",
    "7. prec: precipitación (mm/día)\n",
    "8. rel_hum: humedad relativa en %\n",
    "9. surface_pres: presión barométrica (KPa)\n",
    "10. eto: evapotranspiración potencial (mm/día)\n",
    "\n",
    "\n",
    "\n"
   ]
  },
  {
   "cell_type": "markdown",
   "metadata": {
    "id": "Q7WQ-QBjvqLl"
   },
   "source": [
    "## Paso 2. Apertura de los datos \n"
   ]
  },
  {
   "cell_type": "code",
   "execution_count": 2,
   "metadata": {
    "colab": {
     "base_uri": "https://localhost:8080/"
    },
    "id": "DTaPMSN-2GN0",
    "outputId": "ed58464e-649a-4c1a-dfa4-112071fad95e"
   },
   "outputs": [
    {
     "data": {
      "text/plain": [
       "(7305, 11)"
      ]
     },
     "execution_count": 2,
     "metadata": {},
     "output_type": "execute_result"
    }
   ],
   "source": [
    "\n",
    "url='https://raw.githubusercontent.com/greko-guevara/tareas_IA/main/data_finca_laflor.csv'\n",
    "\n",
    "df =pd.read_csv(url) #carpeta contenedora del archivo de inicio\n",
    "df.shape"
   ]
  },
  {
   "cell_type": "markdown",
   "metadata": {
    "id": "ompw70PNv4Ob"
   },
   "source": [
    "##Paso 3. Se analizan datos faltantes "
   ]
  },
  {
   "cell_type": "markdown",
   "metadata": {
    "id": "nh7ZKtxaYGsT"
   },
   "source": [
    "Se analiza la cantidad de datos faltantes "
   ]
  },
  {
   "cell_type": "code",
   "execution_count": 3,
   "metadata": {
    "colab": {
     "base_uri": "https://localhost:8080/"
    },
    "id": "gJZX1qHLSGuq",
    "outputId": "8f5ac6a1-cad5-44fa-9562-b9104fc8092e"
   },
   "outputs": [
    {
     "name": "stdout",
     "output_type": "stream",
     "text": [
      "******************************\n",
      "Valores faltantes o NaN, en porcentajes:\n",
      " YEAR            0.000000\n",
      "DOY             0.000000\n",
      "top_rad         0.068446\n",
      "surface_rad     0.301164\n",
      "uva-ra          0.547570\n",
      "t_min           0.725530\n",
      "t_max           0.670773\n",
      "prec            0.287474\n",
      "rel_hum         0.109514\n",
      "surface_pres    0.082136\n",
      "eto             0.136893\n",
      "dtype: float64\n"
     ]
    }
   ],
   "source": [
    "print (\"******************************\")\n",
    "print(\"Valores faltantes o NaN, en porcentajes:\\n\",(df.isnull().sum()/df.shape[0])*100)"
   ]
  },
  {
   "cell_type": "markdown",
   "metadata": {
    "id": "EEJ3-x-C7gdf"
   },
   "source": [
    "A continuación el proceso de limpieza de datos\n"
   ]
  },
  {
   "cell_type": "code",
   "execution_count": 4,
   "metadata": {
    "colab": {
     "base_uri": "https://localhost:8080/",
     "height": 318
    },
    "id": "k3mc_H2trWN_",
    "outputId": "6cbb96b2-f80f-485f-9cd3-45d7691871a9"
   },
   "outputs": [
    {
     "name": "stdout",
     "output_type": "stream",
     "text": [
      "(7146, 11)\n"
     ]
    },
    {
     "data": {
      "text/html": [
       "<div>\n",
       "<style scoped>\n",
       "    .dataframe tbody tr th:only-of-type {\n",
       "        vertical-align: middle;\n",
       "    }\n",
       "\n",
       "    .dataframe tbody tr th {\n",
       "        vertical-align: top;\n",
       "    }\n",
       "\n",
       "    .dataframe thead th {\n",
       "        text-align: right;\n",
       "    }\n",
       "</style>\n",
       "<table border=\"1\" class=\"dataframe\">\n",
       "  <thead>\n",
       "    <tr style=\"text-align: right;\">\n",
       "      <th></th>\n",
       "      <th>YEAR</th>\n",
       "      <th>DOY</th>\n",
       "      <th>top_rad</th>\n",
       "      <th>surface_rad</th>\n",
       "      <th>uva-ra</th>\n",
       "      <th>t_min</th>\n",
       "      <th>t_max</th>\n",
       "      <th>prec</th>\n",
       "      <th>rel_hum</th>\n",
       "      <th>surface_pres</th>\n",
       "      <th>eto</th>\n",
       "    </tr>\n",
       "  </thead>\n",
       "  <tbody>\n",
       "    <tr>\n",
       "      <th>count</th>\n",
       "      <td>7146.000000</td>\n",
       "      <td>7146.000000</td>\n",
       "      <td>7146.000000</td>\n",
       "      <td>7146.000000</td>\n",
       "      <td>7146.000000</td>\n",
       "      <td>7146.000000</td>\n",
       "      <td>7146.000000</td>\n",
       "      <td>7146.000000</td>\n",
       "      <td>7146.000000</td>\n",
       "      <td>7146.000000</td>\n",
       "      <td>7146.000000</td>\n",
       "    </tr>\n",
       "    <tr>\n",
       "      <th>mean</th>\n",
       "      <td>2010.547019</td>\n",
       "      <td>182.890428</td>\n",
       "      <td>35.353855</td>\n",
       "      <td>18.883529</td>\n",
       "      <td>13.644184</td>\n",
       "      <td>24.272491</td>\n",
       "      <td>31.702776</td>\n",
       "      <td>4.679163</td>\n",
       "      <td>75.356579</td>\n",
       "      <td>99.904643</td>\n",
       "      <td>4.084266</td>\n",
       "    </tr>\n",
       "    <tr>\n",
       "      <th>std</th>\n",
       "      <td>5.790641</td>\n",
       "      <td>105.550799</td>\n",
       "      <td>2.461045</td>\n",
       "      <td>3.733363</td>\n",
       "      <td>2.231266</td>\n",
       "      <td>1.121527</td>\n",
       "      <td>2.898399</td>\n",
       "      <td>11.850426</td>\n",
       "      <td>11.187449</td>\n",
       "      <td>0.120383</td>\n",
       "      <td>1.022427</td>\n",
       "    </tr>\n",
       "    <tr>\n",
       "      <th>min</th>\n",
       "      <td>2001.000000</td>\n",
       "      <td>1.000000</td>\n",
       "      <td>30.600000</td>\n",
       "      <td>2.680000</td>\n",
       "      <td>2.510000</td>\n",
       "      <td>19.530000</td>\n",
       "      <td>24.230000</td>\n",
       "      <td>0.000000</td>\n",
       "      <td>47.750000</td>\n",
       "      <td>99.460000</td>\n",
       "      <td>1.486210</td>\n",
       "    </tr>\n",
       "    <tr>\n",
       "      <th>25%</th>\n",
       "      <td>2005.000000</td>\n",
       "      <td>91.000000</td>\n",
       "      <td>33.210000</td>\n",
       "      <td>16.610000</td>\n",
       "      <td>12.350000</td>\n",
       "      <td>23.610000</td>\n",
       "      <td>29.430000</td>\n",
       "      <td>0.030000</td>\n",
       "      <td>64.940000</td>\n",
       "      <td>99.820000</td>\n",
       "      <td>3.315672</td>\n",
       "    </tr>\n",
       "    <tr>\n",
       "      <th>50%</th>\n",
       "      <td>2011.000000</td>\n",
       "      <td>182.000000</td>\n",
       "      <td>36.890000</td>\n",
       "      <td>19.180000</td>\n",
       "      <td>13.800000</td>\n",
       "      <td>24.380000</td>\n",
       "      <td>31.180000</td>\n",
       "      <td>0.820000</td>\n",
       "      <td>78.090000</td>\n",
       "      <td>99.910000</td>\n",
       "      <td>3.890909</td>\n",
       "    </tr>\n",
       "    <tr>\n",
       "      <th>75%</th>\n",
       "      <td>2016.000000</td>\n",
       "      <td>274.000000</td>\n",
       "      <td>37.280000</td>\n",
       "      <td>21.450000</td>\n",
       "      <td>15.150000</td>\n",
       "      <td>25.010000</td>\n",
       "      <td>34.040000</td>\n",
       "      <td>4.817500</td>\n",
       "      <td>85.060000</td>\n",
       "      <td>99.980000</td>\n",
       "      <td>4.863376</td>\n",
       "    </tr>\n",
       "    <tr>\n",
       "      <th>max</th>\n",
       "      <td>2020.000000</td>\n",
       "      <td>366.000000</td>\n",
       "      <td>37.900000</td>\n",
       "      <td>27.810000</td>\n",
       "      <td>18.900000</td>\n",
       "      <td>27.730000</td>\n",
       "      <td>39.010000</td>\n",
       "      <td>522.580000</td>\n",
       "      <td>94.000000</td>\n",
       "      <td>100.340000</td>\n",
       "      <td>6.570571</td>\n",
       "    </tr>\n",
       "  </tbody>\n",
       "</table>\n",
       "</div>"
      ],
      "text/plain": [
       "              YEAR          DOY      top_rad  surface_rad       uva-ra  \\\n",
       "count  7146.000000  7146.000000  7146.000000  7146.000000  7146.000000   \n",
       "mean   2010.547019   182.890428    35.353855    18.883529    13.644184   \n",
       "std       5.790641   105.550799     2.461045     3.733363     2.231266   \n",
       "min    2001.000000     1.000000    30.600000     2.680000     2.510000   \n",
       "25%    2005.000000    91.000000    33.210000    16.610000    12.350000   \n",
       "50%    2011.000000   182.000000    36.890000    19.180000    13.800000   \n",
       "75%    2016.000000   274.000000    37.280000    21.450000    15.150000   \n",
       "max    2020.000000   366.000000    37.900000    27.810000    18.900000   \n",
       "\n",
       "             t_min        t_max         prec      rel_hum  surface_pres  \\\n",
       "count  7146.000000  7146.000000  7146.000000  7146.000000   7146.000000   \n",
       "mean     24.272491    31.702776     4.679163    75.356579     99.904643   \n",
       "std       1.121527     2.898399    11.850426    11.187449      0.120383   \n",
       "min      19.530000    24.230000     0.000000    47.750000     99.460000   \n",
       "25%      23.610000    29.430000     0.030000    64.940000     99.820000   \n",
       "50%      24.380000    31.180000     0.820000    78.090000     99.910000   \n",
       "75%      25.010000    34.040000     4.817500    85.060000     99.980000   \n",
       "max      27.730000    39.010000   522.580000    94.000000    100.340000   \n",
       "\n",
       "               eto  \n",
       "count  7146.000000  \n",
       "mean      4.084266  \n",
       "std       1.022427  \n",
       "min       1.486210  \n",
       "25%       3.315672  \n",
       "50%       3.890909  \n",
       "75%       4.863376  \n",
       "max       6.570571  "
      ]
     },
     "execution_count": 4,
     "metadata": {},
     "output_type": "execute_result"
    }
   ],
   "source": [
    "\n",
    "#limpieza y acomodo de los datos\n",
    "df= df.dropna() # me permite borrar valores vacios \n",
    "df= df[df['top_rad'] != 0]\n",
    "df= df[df['surface_rad'] != 0]\n",
    "df= df[df['uva-ra'] != 0]\n",
    "df= df[df['t_min'] != 0]\n",
    "df= df[df['t_max'] != 0]\n",
    "#df= df[df['prec'] != 0] ==> atención es posible que tengamos datos de precipitación en cero (no lluvia ese día) por lo que se acepta ese valor. \n",
    "df= df[df['rel_hum'] != 0]\n",
    "df= df[df['surface_pres'] != 0]\n",
    "df= df[df['eto'] != 0]\n",
    "\n",
    "print(df.shape)\n",
    "\n",
    "\n",
    "df.describe()"
   ]
  },
  {
   "cell_type": "markdown",
   "metadata": {
    "id": "QkrnBDLIrWOA"
   },
   "source": [
    "#### Se observa que en la columna de  precipitación hubo días de 500 mm o más, estos son eventos climáticos extremos, los cuales vamos a eliminar y  solo aceptaremos días con precipitaciones de no más  50 mm \n",
    "\n",
    "**se uso 50 mm como criterio base de infiltración, el resto del agua se constituye en escorrentía segun los balances hídricos**"
   ]
  },
  {
   "cell_type": "code",
   "execution_count": 5,
   "metadata": {
    "colab": {
     "base_uri": "https://localhost:8080/"
    },
    "id": "nWAJXZPjrWOB",
    "outputId": "414dd9d3-c297-45c2-d70d-9a303a595c7b"
   },
   "outputs": [
    {
     "name": "stdout",
     "output_type": "stream",
     "text": [
      "(7099, 11)\n"
     ]
    }
   ],
   "source": [
    "# depuración de los outliears  \n",
    "df=df[df.prec <= 50]\n",
    "print (df.shape)"
   ]
  },
  {
   "cell_type": "markdown",
   "metadata": {
    "id": "IeUGSuJ1rWOB"
   },
   "source": [
    "\n",
    "## Paso 4. se realizan gráficos exploratorios"
   ]
  },
  {
   "cell_type": "code",
   "execution_count": 6,
   "metadata": {
    "id": "xesZ_4wQrWOC"
   },
   "outputs": [],
   "source": [
    "#Usando Seaborn generamos un para de dispersión entre factores para observar relaciones\n",
    "sns.pairplot(df);"
   ]
  },
  {
   "cell_type": "code",
   "execution_count": 7,
   "metadata": {
    "colab": {
     "base_uri": "https://localhost:8080/",
     "height": 53
    },
    "id": "2oIGPHdnrWOC",
    "outputId": "6ec9097a-bfb6-42a9-8592-c51395b1f4f9"
   },
   "outputs": [
    {
     "data": {
      "text/plain": [
       "'\\ndef correlation_heatmap(df):\\n    _,ax=plt.subplots(figsize=(15,10))\\n    colormap=sns.diverging_palette(220,10,as_cmap=True)\\n    sns.heatmap(df.corr(),annot=True,cmap=colormap)\\n    \\ncorrelation_heatmap(df)\\n'"
      ]
     },
     "execution_count": 7,
     "metadata": {},
     "output_type": "execute_result"
    }
   ],
   "source": [
    "# de forma similar contruimos un mapa de calor y observamos las correlaciones entre los factores \n",
    "\"\"\"\n",
    "def correlation_heatmap(df):\n",
    "    _,ax=plt.subplots(figsize=(15,10))\n",
    "    colormap=sns.diverging_palette(220,10,as_cmap=True)\n",
    "    sns.heatmap(df.corr(),annot=True,cmap=colormap)\n",
    "    \n",
    "correlation_heatmap(df)\n",
    "\"\"\""
   ]
  },
  {
   "cell_type": "markdown",
   "metadata": {
    "id": "vLMkfuJ3rWOD"
   },
   "source": [
    "####  Se concluye de los gráficos anteriores que:\n",
    "- la evapotranspiración está altamente influenciada por la radiación y la temperatura principalmente, \n",
    "- los otros parámetros climáticos con precipitación, humedad relativa y presión barométrica no influyen en la evapotranspiración \n",
    "    \n",
    " #### A Partir de lo anterior definimos gráficos que visualicen las relaciones entre radiación y temperatura vrs ETO "
   ]
  },
  {
   "cell_type": "markdown",
   "metadata": {
    "id": "3SUrakYawddd"
   },
   "source": [
    "## Paso 5. Se establece una relación gráfica entre los factores de temperatura y radiación con respecto a ETO.\n"
   ]
  },
  {
   "cell_type": "code",
   "execution_count": 8,
   "metadata": {
    "colab": {
     "base_uri": "https://localhost:8080/",
     "height": 622
    },
    "id": "NzIjvivArWOD",
    "outputId": "80cbfce0-40c7-49d8-849a-cde7ad4207bf"
   },
   "outputs": [
    {
     "data": {
      "image/png": "[encoded data removed]",
      "text/plain": [
       "<Figure size 1152x720 with 5 Axes>"
      ]
     },
     "metadata": {
      "needs_background": "light"
     },
     "output_type": "display_data"
    }
   ],
   "source": [
    "fig = plt.figure(figsize=(16,10))\n",
    "\n",
    "#Grafico de relación Temperatura mínima vrs ETO \n",
    "plot1 = fig.add_subplot(231)\n",
    "A = plt.scatter(df['t_min'],df['eto'], color='orange',s=1)\n",
    "plt.xlabel('T_min °C ')\n",
    "plt.ylabel('ETO mm')\n",
    "plt.title('Relación T_Min vrs ETO')\n",
    "\n",
    "#Grafico de relación Temperatura máxima vrs ETO \n",
    "plot1 = fig.add_subplot(232)\n",
    "A = plt.scatter(df['t_max'],df['eto'], color='red',s=1)\n",
    "plt.xlabel('T_max °C ')\n",
    "plt.ylabel('ETO mm')\n",
    "plt.title('Relación T_Max vrs ETO')\n",
    "\n",
    "#Grafico de Radiación extraterrestre mínima vrs ETO \n",
    "plot1 = fig.add_subplot(234)\n",
    "A = plt.scatter(df['top_rad'],df['eto'], color='blue',s=1)\n",
    "plt.xlabel('Radiación Extraterrestre (MJ/m2) ')\n",
    "plt.ylabel('ETO mm')\n",
    "plt.title('Relación Radiación Extraterrestre vrs ETO')\n",
    "\n",
    "#Grafico de Radiación en la superficie  vrs ETO \n",
    "plot1 = fig.add_subplot(235)\n",
    "A = plt.scatter(df['surface_rad'],df['eto'], color='blue',s=1)\n",
    "plt.xlabel('Radiación Superficie (MJ/m2) ')\n",
    "plt.ylabel('ETO mm')\n",
    "plt.title('Relación Radiación superficial vrs ETO')\n",
    "\n",
    "\n",
    "#Grafico de Radiación ultravioleta  vrs ETO \n",
    "plot1 = fig.add_subplot(236)\n",
    "A = plt.scatter(df['uva-ra'],df['eto'], color='grey',s=1)\n",
    "plt.xlabel('Ultravioleta (W/m2) ')\n",
    "plt.ylabel('ETO mm')\n",
    "plt.title('Relación Ultravioleta vrs ETO')\n",
    "\n",
    "\n",
    "\n",
    "plt.show()\n"
   ]
  },
  {
   "cell_type": "markdown",
   "metadata": {
    "id": "y7ISYycorWOE"
   },
   "source": [
    "#### Interesante que de forma específica se encuentra que la EVAPOTRANPIRACION esta directamente influenciada por todo el Data Set por tres parámetros climáticos como lo son:\n",
    "- Temperatura máximas del día \n",
    "- Radiación en la superficie "
   ]
  },
  {
   "cell_type": "markdown",
   "metadata": {
    "id": "B6O3Uq6bw7Rl"
   },
   "source": [
    "## Paso 6. Se grafíca el comportamiento anual de la evapotranspiración vrs temperatura y radiación. "
   ]
  },
  {
   "cell_type": "code",
   "execution_count": 9,
   "metadata": {
    "colab": {
     "base_uri": "https://localhost:8080/"
    },
    "id": "L2mER2N8rWOE",
    "outputId": "87f7ed8f-adb4-4dc7-fa5a-cc8207e20d4e"
   },
   "outputs": [
    {
     "name": "stdout",
     "output_type": "stream",
     "text": [
      "(366, 10)\n"
     ]
    }
   ],
   "source": [
    "# Ordenamos los datos las medias de los datos por día del año y vemos como se comporta la evapotrasnpiración en función de los variables radiación y temperatura \n",
    "\n",
    "df_doy=df.groupby(\"DOY\").mean() \n",
    "print (df_doy.shape)\n",
    "lst = [i for i in range(1,366+1)]\n",
    "    "
   ]
  },
  {
   "cell_type": "code",
   "execution_count": 10,
   "metadata": {
    "colab": {
     "base_uri": "https://localhost:8080/",
     "height": 297
    },
    "id": "oBNCT6KFrWOF",
    "outputId": "aa89c00a-201a-4267-f7ce-ec84c862e42c"
   },
   "outputs": [
    {
     "data": {
      "image/png": "[encoded data removed]",
      "text/plain": [
       "<Figure size 576x288 with 2 Axes>"
      ]
     },
     "metadata": {
      "needs_background": "light"
     },
     "output_type": "display_data"
    }
   ],
   "source": [
    "# observamos el comportamiento de la temperatura \n",
    "\n",
    "fig, ax = plt.subplots(figsize=(8,4))\n",
    "ax.set_ylabel('ETO (mm)')  # we already handled the x-label with ax1\n",
    "rects3= ax.bar(lst,df_doy['eto'], color='blue',\n",
    "        label='ETO (mm)')\n",
    "ax.set_xlabel('Día del año')\n",
    "ax.grid(True)\n",
    "ax.legend(loc=\"upper left\")\n",
    "\n",
    "ax1 = ax.twinx()  # instantiate a second axes that shares the same x-axis\n",
    "\n",
    "ax1.set_ylabel('Evapotranspiraciones diarias (mm)')\n",
    "rects1= ax1.plot(lst, df_doy['t_min'], color='orange',\n",
    "        label='Temperatura mínima ')\n",
    "rects1= ax1.plot(lst, df_doy['t_max'], color='red',\n",
    "        label='Temperatura máxima ')\n",
    "\n",
    "\n",
    "ax1.legend(loc=\"upper right\")\n",
    "fig.tight_layout()  # otherwise the right y-label is slightly clipped\n",
    "\n",
    "plt.show()\n"
   ]
  },
  {
   "cell_type": "markdown",
   "metadata": {
    "id": "iF804pMirWOF"
   },
   "source": [
    "#### Se concluye que existe una relación lineal entre la temperatura máxima y la evapotranspiración \n",
    "\n",
    "Este dato es muy importante para cuando construyamos el vector con los pesos de cada factor \n"
   ]
  },
  {
   "cell_type": "code",
   "execution_count": 11,
   "metadata": {
    "colab": {
     "base_uri": "https://localhost:8080/",
     "height": 297
    },
    "id": "I7p2OkejrWOF",
    "outputId": "60a0bcf6-f4de-40b2-a62e-ad0c4988fccd"
   },
   "outputs": [
    {
     "data": {
      "image/png": "[encoded data removed]",
      "text/plain": [
       "<Figure size 576x288 with 2 Axes>"
      ]
     },
     "metadata": {
      "needs_background": "light"
     },
     "output_type": "display_data"
    }
   ],
   "source": [
    "# observamos el comportamiento de la radiación  \n",
    "\n",
    "fig, ax = plt.subplots(figsize=(8,4))\n",
    "ax.set_ylabel('ETO (mm)')  # we already handled the x-label with ax1\n",
    "rects3= ax.bar(lst,df_doy['eto'], color='blue',\n",
    "        label='ETO (mm)')\n",
    "ax.set_xlabel('Día del año')\n",
    "ax.grid(True)\n",
    "ax.legend(loc=\"upper left\")\n",
    "\n",
    "ax1 = ax.twinx()  # instantiate a second axes that shares the same x-axis\n",
    "\n",
    "ax1.set_ylabel('Radiación promedio en la superficie (MJ/m2)')\n",
    "rects1= ax1.plot(lst, df_doy['surface_rad'], color='orange',\n",
    "        label='Radiación ')\n",
    "\n",
    "ax1.legend(loc=\"upper right\")\n",
    "fig.tight_layout()  # otherwise the right y-label is slightly clipped\n",
    "\n",
    "plt.show()"
   ]
  },
  {
   "cell_type": "markdown",
   "metadata": {
    "id": "2EjzG0967ekO"
   },
   "source": [
    "# Aprendizaje Supervisado"
   ]
  },
  {
   "cell_type": "markdown",
   "metadata": {
    "id": "RIs99FV787I7"
   },
   "source": [
    "##Paso 1. Definicion de funciones para poder analizar el DataSet con diferentes enfoques usando varios metodos"
   ]
  },
  {
   "cell_type": "code",
   "execution_count": 12,
   "metadata": {
    "id": "j83HcNEd9DQl"
   },
   "outputs": [],
   "source": [
    "#Funcion para division de Datos para Training and Testing\n",
    "def Data_Segregation(features,targets, x=5, verification = False):\n",
    "  from sklearn.model_selection import train_test_split\n",
    "  X_train, X_test, y_train, y_test = train_test_split(features,targets, random_state=x) \n",
    "\n",
    "  #Verificamos los tamaños:\n",
    "  if verification:\n",
    "    print(\"Segregation verification, sizes:\")\n",
    "    print(\"X_train= \",X_train.shape)\n",
    "    print(\"X_test= \",X_test.shape)\n",
    "    print(\"y_train= \",y_train.shape)\n",
    "    print(\"y_test= \",y_test.shape)\n",
    "\n",
    "  return X_train, X_test, y_train, y_test\n"
   ]
  },
  {
   "cell_type": "code",
   "execution_count": 13,
   "metadata": {
    "id": "vg-_mVvU_Vws"
   },
   "outputs": [],
   "source": [
    "#Funcion para correr un modelo lineal \n",
    "def Linear_Regression(X_train, X_test, y_train, y_test, showScore = False, positiveBool=False):\n",
    "  from sklearn.linear_model import LinearRegression\n",
    "  lr=LinearRegression(positive = positiveBool).fit(X_train,y_train)\n",
    "\n",
    "  trainScore = lr.score(X_train,y_train)\n",
    "  testScore = lr.score(X_test,y_test)                      \n",
    "  if showScore:\n",
    "    print(\"Train score= \", trainScore)\n",
    "    print(\"Test score= \", testScore)\n",
    "  \n",
    "  return trainScore, testScore\n"
   ]
  },
  {
   "cell_type": "code",
   "execution_count": 14,
   "metadata": {
    "id": "-uV3xv1YkHBh"
   },
   "outputs": [],
   "source": [
    "#Funcion para correr modelo lineal Ridge\n",
    "def LRRidge(X_train, X_test, y_train, y_test, showScore = False, positiveBool=False, alphaNum = 1.0):\n",
    "  from sklearn import linear_model\n",
    "  reg = linear_model.Ridge(alpha=alphaNum, positive = positiveBool).fit(X_train,y_train)\n",
    "  \n",
    "  trainScore = reg.score(X_train,y_train)\n",
    "  testScore = reg.score(X_test,y_test)                      \n",
    "  if showScore:\n",
    "    print(\"Train score= \", trainScore)\n",
    "    print(\"Test score= \", testScore)\n",
    "  \n",
    "  return trainScore, testScore"
   ]
  },
  {
   "cell_type": "code",
   "execution_count": 15,
   "metadata": {
    "id": "2Dq1OxYkC4WA"
   },
   "outputs": [],
   "source": [
    "#Funcion para correr SVM\n",
    "def SVMachine(X_train, X_test, y_train, y_test, showScore = False, kernelStr=\"rbf\", Creg=1.0, gammaStr=\"scale\"):\n",
    "  from sklearn.svm import SVR\n",
    "  LinearSVR = SVR(kernel = kernelStr, C = Creg, gamma = gammaStr)\n",
    "\n",
    "  #svr=LinearSVR().fit(X_train,y_train)\n",
    "  LinearSVR.fit(X_train,y_train)\n",
    "\n",
    "  trainScore = LinearSVR.score(X_train,y_train)\n",
    "  testScore = LinearSVR.score(X_test,y_test)    \n",
    "\n",
    "  if showScore:\n",
    "    print(\"Train score= \", trainScore)\n",
    "    print(\"Test score= \", testScore)\n",
    "\n",
    "  return trainScore, testScore\n"
   ]
  },
  {
   "cell_type": "code",
   "execution_count": 16,
   "metadata": {
    "id": "l9QyoP7uP-dS"
   },
   "outputs": [],
   "source": [
    "#Funcion para correr Nearest Neighbors Regression\n",
    "def kNNRegression(X_train, X_test, y_train, y_test, showScore = False, n=5,weightsStr=\"uniform\", algorithmStr=\"auto\"):\n",
    "  from sklearn.neighbors import KNeighborsRegressor\n",
    "  neigh = KNeighborsRegressor(n_neighbors=n,weights=weightsStr, algorithm=algorithmStr)\n",
    "  neigh.fit(X_train, y_train)\n",
    "\n",
    "  trainScore = neigh.score(X_train,y_train)\n",
    "  testScore = neigh.score(X_test,y_test) \n",
    "\n",
    "  if showScore:\n",
    "    print(\"Train score= \", trainScore)\n",
    "    print(\"Test score= \", testScore)\n",
    "\n",
    "  return trainScore, testScore\n"
   ]
  },
  {
   "cell_type": "code",
   "execution_count": 17,
   "metadata": {
    "id": "Vea1tshWVICr"
   },
   "outputs": [],
   "source": [
    "#Funcion para usar DecisionTreeRegressor\n",
    "\n",
    "def DTRegressor (X_train, X_test, y_train, y_test, showScore = False, showClassifier = False, n=100, criterionStr = \"squared_error\", depth=None):\n",
    "  from sklearn.ensemble import RandomForestRegressor\n",
    "  reg_forest = RandomForestRegressor(n_estimators = n, criterion = criterionStr, max_depth = depth)\n",
    "  reg_forest = reg_forest.fit(X_train, y_train)\n",
    "\n",
    "  trainScore = reg_forest.score(X_train,y_train)\n",
    "  testScore = reg_forest.score(X_test,y_test) \n",
    "\n",
    "  if showScore:\n",
    "    print(\"Train score= \", trainScore)\n",
    "    print(\"Test score= \", testScore)\n",
    "\n",
    "  if showClassifier:\n",
    "    print(\"Showing importances features classification:\")\n",
    "    from sklearn.ensemble import RandomForestClassifier\n",
    "    importances = pd.DataFrame({'feature' : X_train.columns, 'importance':reg_forest.feature_importances_})\n",
    "    importances = importances.sort_values('importance', ascending = False).set_index('feature')\n",
    "    from matplotlib import pyplot as plt\n",
    "    plt.style.use('ggplot')\n",
    "    importances.plot.bar()\n",
    "\n",
    "  return trainScore, testScore"
   ]
  },
  {
   "cell_type": "markdown",
   "metadata": {
    "id": "RNmQCyXFrWOG"
   },
   "source": [
    "\n",
    "## Paso 2. Seleccion de columnas, division de los datos para entrenamiento y prueba, y definicion de Casos.\n",
    "\n"
   ]
  },
  {
   "cell_type": "markdown",
   "metadata": {
    "id": "XkNsY_HGbbTF"
   },
   "source": [
    "**Descripcion de la dinamica:**\n",
    "Se usara el mismo DataSet anlizado en el pre-procesado, solo que se dividiran en diferentes casos, para poder analizar los datos con diferentes herramientas y tambien ver las diferentes relaciones entre las variables:\n",
    "\n",
    "\n",
    "\n",
    "**Caso 1: Se usaran las radiciones y temperaturas para poder predecir el ETO**\n",
    "- Features: 'top_rad','surface_rad','t_max'\n",
    "- Targets: 'eto'\n",
    "\n",
    "El objetivo de este caso es verificar la relacion lineal encontrada en el pre-procesado entre la temperatura maxima y el ETO\n",
    "\n",
    "**Caso 2: Se usaran las demas caracteristicas, excluyendo ETO, para poder predecir la temperatura maxima**\n",
    "- Features: 'top_rad','surface_rad','uva-ra','rel_hum','surface_pres','prec'\n",
    "- Targets: 't_max'\n",
    "\n",
    "El objetivo de este segundo caso es entender la relacion de las demas caracteristicas o variables con la temperatura maxima, ya que al parecer es la predominante al relacionarse con el ETO"
   ]
  },
  {
   "cell_type": "code",
   "execution_count": 18,
   "metadata": {
    "colab": {
     "base_uri": "https://localhost:8080/"
    },
    "id": "DoOQ3Nd4byEr",
    "outputId": "1cdbcbcd-829a-478e-c646-4edafc85a755"
   },
   "outputs": [
    {
     "data": {
      "text/plain": [
       "(7099, 8)"
      ]
     },
     "execution_count": 18,
     "metadata": {},
     "output_type": "execute_result"
    }
   ],
   "source": [
    "#Seleccioamos solo las columnas a usar\n",
    "#Se excluye temperatura minima, basado en resultados del pre-procesado\n",
    "\n",
    "cols_to_use = ['top_rad','surface_rad','uva-ra','eto','rel_hum','surface_pres','prec','t_max']\n",
    "df = df[cols_to_use]\n",
    "df.shape\n"
   ]
  },
  {
   "cell_type": "markdown",
   "metadata": {
    "id": "weT8B6u7e7si"
   },
   "source": [
    "##Paso 3: Caso 1. Aplicacion de los difernetes metodos de regresion"
   ]
  },
  {
   "cell_type": "markdown",
   "metadata": {
    "id": "iQL9mH4cguJ8"
   },
   "source": [
    "Definicion de Features y Targets, con la separacion de los Datos para Training & Testing"
   ]
  },
  {
   "cell_type": "code",
   "execution_count": 19,
   "metadata": {
    "id": "BwxAYbJ3c13K"
   },
   "outputs": [],
   "source": [
    "#Definicion de features o targets, segun caso\n",
    "\n",
    "features = df[['top_rad','surface_rad','t_max']]\n",
    "targets = df['eto']\n"
   ]
  },
  {
   "cell_type": "code",
   "execution_count": 20,
   "metadata": {
    "colab": {
     "base_uri": "https://localhost:8080/"
    },
    "id": "eTbp432zdTaH",
    "outputId": "673cfef6-8016-4ee5-cde8-d0673e95a453"
   },
   "outputs": [
    {
     "name": "stdout",
     "output_type": "stream",
     "text": [
      "Segregation verification, sizes:\n",
      "X_train=  (5324, 3)\n",
      "X_test=  (1775, 3)\n",
      "y_train=  (5324,)\n",
      "y_test=  (1775,)\n"
     ]
    }
   ],
   "source": [
    "#Uso de funcion Data_Segregation, con un random_state de 13 y la visualizacion de tamanos activa\n",
    "X_train, X_test, y_train, y_test = Data_Segregation (features,targets, 13, True)"
   ]
  },
  {
   "cell_type": "markdown",
   "metadata": {
    "id": "v2NUcK38kj49"
   },
   "source": [
    "### Aplicacion de los modelos de regresion "
   ]
  },
  {
   "cell_type": "code",
   "execution_count": 21,
   "metadata": {
    "id": "CzOUNfDzBPt8"
   },
   "outputs": [],
   "source": [
    "#Creacion de un DataFrame para almacenar los diferentes Scores \n",
    "import pandas as pd\n",
    "\n",
    "#Definicion de columnas\n",
    "columnsSummary = ['Model', 'Training Score', 'Testing Score', 'Details']\n",
    "\n",
    "# Creacion del Data Frame vacio\n",
    "dfScores = pd.DataFrame(columns = columnsSummary)\n"
   ]
  },
  {
   "cell_type": "markdown",
   "metadata": {
    "id": "20RlCqkMg8s3"
   },
   "source": [
    "####Modelos Lineales"
   ]
  },
  {
   "cell_type": "code",
   "execution_count": 22,
   "metadata": {
    "colab": {
     "base_uri": "https://localhost:8080/"
    },
    "id": "tGeAX3WLBzsZ",
    "outputId": "578bb012-b6bd-44c1-acea-1d1c8877d74a"
   },
   "outputs": [
    {
     "name": "stdout",
     "output_type": "stream",
     "text": [
      "Ordinary Least Squares\n",
      "Train score=  0.9632280104173241\n",
      "Test score=  0.9623943370092025\n",
      "\n",
      "\n",
      "Ordinary Least Squares and Non-negative least squares\n",
      "Train score=  0.9632280104173241\n",
      "Test score=  0.9623943370092024\n"
     ]
    },
    {
     "name": "stderr",
     "output_type": "stream",
     "text": [
      "<ipython-input-22-7866704201a2>:6: FutureWarning: The frame.append method is deprecated and will be removed from pandas in a future version. Use pandas.concat instead.\n",
      "  dfScores = dfScores.append({'Model': \"Ordinary Least Squares\", 'Training Score' : a, 'Testing Score' : b, 'Details': \"N/A\"}, ignore_index = True)\n",
      "<ipython-input-22-7866704201a2>:11: FutureWarning: The frame.append method is deprecated and will be removed from pandas in a future version. Use pandas.concat instead.\n",
      "  dfScores = dfScores.append({'Model': \"Ordinary Least Squares\", 'Training Score' : a, 'Testing Score' : b, 'Details': \"Non-negative least squares\"}, ignore_index = True)\n"
     ]
    }
   ],
   "source": [
    "#Uso de funcion Linear_Regression, con visualizacion de Scores y opcion de Non-negative least squares en el ultimo parametro de la funcion\n",
    "#(\"When set to True, forces the coefficients to be positive\")\n",
    "\n",
    "print(\"Ordinary Least Squares\")\n",
    "a, b = Linear_Regression(X_train, X_test, y_train, y_test, True, False)\n",
    "dfScores = dfScores.append({'Model': \"Ordinary Least Squares\", 'Training Score' : a, 'Testing Score' : b, 'Details': \"N/A\"}, ignore_index = True)\n",
    "\n",
    "print(\"\\n\")\n",
    "print(\"Ordinary Least Squares and Non-negative least squares\")\n",
    "a, b = Linear_Regression(X_train, X_test, y_train, y_test, True, True)\n",
    "dfScores = dfScores.append({'Model': \"Ordinary Least Squares\", 'Training Score' : a, 'Testing Score' : b, 'Details': \"Non-negative least squares\"}, ignore_index = True)"
   ]
  },
  {
   "cell_type": "code",
   "execution_count": 23,
   "metadata": {
    "colab": {
     "base_uri": "https://localhost:8080/"
    },
    "id": "PnXFi8TWk_yP",
    "outputId": "af4c50a1-fb07-4587-d355-4ae0e7657ff9"
   },
   "outputs": [
    {
     "name": "stdout",
     "output_type": "stream",
     "text": [
      "Ridge regression and alpha equal to 0.5\n",
      "Train score=  0.9632280102568296\n",
      "Test score=  0.962394543465349\n",
      "\n",
      "\n",
      "Ridge regression and alpha equal to 0.1\n",
      "Train score=  0.9632280097753796\n",
      "Test score=  0.9623947495878895\n",
      "\n",
      "\n",
      "Ridge regression, alpha equal to 0.5 and Non-negative least squares\n",
      "Train score=  0.9632280102580119\n",
      "Test score=  0.9623945428050322\n",
      "\n",
      "\n",
      "Ridge regression alpha equal to 0.1 and Non-negative least squares\n",
      "Train score=  0.9632280097777463\n",
      "Test score=  0.9623947489289015\n",
      "\n",
      "\n"
     ]
    },
    {
     "name": "stderr",
     "output_type": "stream",
     "text": [
      "<ipython-input-23-8cb588205e6b>:5: FutureWarning: The frame.append method is deprecated and will be removed from pandas in a future version. Use pandas.concat instead.\n",
      "  dfScores = dfScores.append({'Model': \"Ridge regression\", 'Training Score' : a, 'Testing Score' : b, 'Details': \"Alpha = 0.5\"}, ignore_index = True)\n",
      "<ipython-input-23-8cb588205e6b>:9: FutureWarning: The frame.append method is deprecated and will be removed from pandas in a future version. Use pandas.concat instead.\n",
      "  dfScores = dfScores.append({'Model': \"Ridge regression\", 'Training Score' : a, 'Testing Score' : b, 'Details': \"Alpha = 1\"}, ignore_index = True)\n",
      "<ipython-input-23-8cb588205e6b>:13: FutureWarning: The frame.append method is deprecated and will be removed from pandas in a future version. Use pandas.concat instead.\n",
      "  dfScores = dfScores.append({'Model': \"Ridge regression\", 'Training Score' : a, 'Testing Score' : b, 'Details': \"Alpha = 0.5 & Non-negative least squares\"}, ignore_index = True)\n",
      "<ipython-input-23-8cb588205e6b>:17: FutureWarning: The frame.append method is deprecated and will be removed from pandas in a future version. Use pandas.concat instead.\n",
      "  dfScores = dfScores.append({'Model': \"Ridge regression\", 'Training Score' : a, 'Testing Score' : b, 'Details': \"Alpha = 1 & Non-negative least squares\"}, ignore_index = True)\n"
     ]
    }
   ],
   "source": [
    "#Uso de funcion LRRidge, con visualizacion de Scores, opcion de Non-negative least squares y opcion de Regularization strength (alpha)\n",
    "\n",
    "print(\"Ridge regression and alpha equal to 0.5\")\n",
    "a, b = LRRidge(X_train, X_test, y_train, y_test, True, False, 0.5)\n",
    "dfScores = dfScores.append({'Model': \"Ridge regression\", 'Training Score' : a, 'Testing Score' : b, 'Details': \"Alpha = 0.5\"}, ignore_index = True)\n",
    "print(\"\\n\")\n",
    "print(\"Ridge regression and alpha equal to 0.1\")\n",
    "a, b = LRRidge(X_train, X_test, y_train, y_test, True, False, 1)\n",
    "dfScores = dfScores.append({'Model': \"Ridge regression\", 'Training Score' : a, 'Testing Score' : b, 'Details': \"Alpha = 1\"}, ignore_index = True)\n",
    "print(\"\\n\")\n",
    "print(\"Ridge regression, alpha equal to 0.5 and Non-negative least squares\")\n",
    "a, b = LRRidge(X_train, X_test, y_train, y_test, True, True, 0.5)\n",
    "dfScores = dfScores.append({'Model': \"Ridge regression\", 'Training Score' : a, 'Testing Score' : b, 'Details': \"Alpha = 0.5 & Non-negative least squares\"}, ignore_index = True)\n",
    "print(\"\\n\")\n",
    "print(\"Ridge regression alpha equal to 0.1 and Non-negative least squares\")\n",
    "a, b = LRRidge(X_train, X_test, y_train, y_test, True, True, 1)\n",
    "dfScores = dfScores.append({'Model': \"Ridge regression\", 'Training Score' : a, 'Testing Score' : b, 'Details': \"Alpha = 1 & Non-negative least squares\"}, ignore_index = True)\n",
    "print(\"\\n\")"
   ]
  },
  {
   "cell_type": "markdown",
   "metadata": {
    "id": "2XxkzfzXkuAB"
   },
   "source": [
    "#### Modelo Maquina de Soporte Vectorial "
   ]
  },
  {
   "cell_type": "code",
   "execution_count": 24,
   "metadata": {
    "colab": {
     "base_uri": "https://localhost:8080/"
    },
    "id": "hU8riPB9l66m",
    "outputId": "b8062a74-ebbe-40e7-939f-d65c13232fdb"
   },
   "outputs": [
    {
     "name": "stdout",
     "output_type": "stream",
     "text": [
      "SVM with kernel = rbf, C = 1 and gamma = auto\n",
      "Train score=  0.975877591751733\n",
      "Test score=  0.9676250537503345\n",
      "\n",
      "\n",
      "SVM with kernel = rbf, C = 10 and gamma = auto\n"
     ]
    },
    {
     "name": "stderr",
     "output_type": "stream",
     "text": [
      "<ipython-input-24-02212c51edfb>:4: FutureWarning: The frame.append method is deprecated and will be removed from pandas in a future version. Use pandas.concat instead.\n",
      "  dfScores = dfScores.append({'Model': \"SVM\", 'Training Score' : a, 'Testing Score' : b, 'Details': \"kernel = rbf, C = 1 and gamma = auto\"}, ignore_index = True)\n"
     ]
    },
    {
     "name": "stdout",
     "output_type": "stream",
     "text": [
      "Train score=  0.977775715539438\n",
      "Test score=  0.9660784213425844\n",
      "\n",
      "\n",
      "SVM with kernel = linear, C = 1 and gamma = auto\n"
     ]
    },
    {
     "name": "stderr",
     "output_type": "stream",
     "text": [
      "<ipython-input-24-02212c51edfb>:8: FutureWarning: The frame.append method is deprecated and will be removed from pandas in a future version. Use pandas.concat instead.\n",
      "  dfScores = dfScores.append({'Model': \"SVM\", 'Training Score' : a, 'Testing Score' : b, 'Details': \"kernel = rbf, C = 10 and gamma = auto\"}, ignore_index = True)\n"
     ]
    },
    {
     "name": "stdout",
     "output_type": "stream",
     "text": [
      "Train score=  0.9632104555007702\n",
      "Test score=  0.9623187496119315\n",
      "\n",
      "\n",
      "SVM with kernel = linear, C = 10 and gamma = auto\n"
     ]
    },
    {
     "name": "stderr",
     "output_type": "stream",
     "text": [
      "<ipython-input-24-02212c51edfb>:12: FutureWarning: The frame.append method is deprecated and will be removed from pandas in a future version. Use pandas.concat instead.\n",
      "  dfScores = dfScores.append({'Model': \"SVM\", 'Training Score' : a, 'Testing Score' : b, 'Details': \"kernel = linear, C = 1 and gamma = auto\"}, ignore_index = True)\n"
     ]
    },
    {
     "name": "stdout",
     "output_type": "stream",
     "text": [
      "Train score=  0.9632145196097815\n",
      "Test score=  0.9623425260443068\n",
      "\n",
      "\n",
      "SVM with kernel = linear, C = 1 and gamma = scale\n"
     ]
    },
    {
     "name": "stderr",
     "output_type": "stream",
     "text": [
      "<ipython-input-24-02212c51edfb>:16: FutureWarning: The frame.append method is deprecated and will be removed from pandas in a future version. Use pandas.concat instead.\n",
      "  dfScores = dfScores.append({'Model': \"SVM\", 'Training Score' : a, 'Testing Score' : b, 'Details': \"kernel = linear, C = 10 and gamma = auto\"}, ignore_index = True)\n"
     ]
    },
    {
     "name": "stdout",
     "output_type": "stream",
     "text": [
      "Train score=  0.9632104555007702\n",
      "Test score=  0.9623187496119315\n",
      "\n",
      "\n"
     ]
    },
    {
     "name": "stderr",
     "output_type": "stream",
     "text": [
      "<ipython-input-24-02212c51edfb>:20: FutureWarning: The frame.append method is deprecated and will be removed from pandas in a future version. Use pandas.concat instead.\n",
      "  dfScores = dfScores.append({'Model': \"SVM\", 'Training Score' : a, 'Testing Score' : b, 'Details': \"kernel = linear, C = 10 and gamma = scale\"}, ignore_index = True)\n"
     ]
    }
   ],
   "source": [
    "#Uso de la funcion SVMachine con visualizacion de Scores, definicion de Kernel, C y gamma\n",
    "print(\"SVM with kernel = rbf, C = 1 and gamma = auto\")\n",
    "a, b = SVMachine(X_train, X_test, y_train, y_test, True, \"rbf\", 1, \"auto\")\n",
    "dfScores = dfScores.append({'Model': \"SVM\", 'Training Score' : a, 'Testing Score' : b, 'Details': \"kernel = rbf, C = 1 and gamma = auto\"}, ignore_index = True)\n",
    "print(\"\\n\")\n",
    "print(\"SVM with kernel = rbf, C = 10 and gamma = auto\")\n",
    "a, b = SVMachine(X_train, X_test, y_train, y_test, True, \"rbf\", 10, \"auto\")\n",
    "dfScores = dfScores.append({'Model': \"SVM\", 'Training Score' : a, 'Testing Score' : b, 'Details': \"kernel = rbf, C = 10 and gamma = auto\"}, ignore_index = True)\n",
    "print(\"\\n\")\n",
    "print(\"SVM with kernel = linear, C = 1 and gamma = auto\")\n",
    "a, b = SVMachine(X_train, X_test, y_train, y_test, True, \"linear\", 1, \"auto\")\n",
    "dfScores = dfScores.append({'Model': \"SVM\", 'Training Score' : a, 'Testing Score' : b, 'Details': \"kernel = linear, C = 1 and gamma = auto\"}, ignore_index = True)\n",
    "print(\"\\n\")\n",
    "print(\"SVM with kernel = linear, C = 10 and gamma = auto\")\n",
    "a, b = SVMachine(X_train, X_test, y_train, y_test, True, \"linear\", 10, \"auto\")\n",
    "dfScores = dfScores.append({'Model': \"SVM\", 'Training Score' : a, 'Testing Score' : b, 'Details': \"kernel = linear, C = 10 and gamma = auto\"}, ignore_index = True)\n",
    "print(\"\\n\")\n",
    "print(\"SVM with kernel = linear, C = 1 and gamma = scale\")\n",
    "a, b = SVMachine(X_train, X_test, y_train, y_test, True, \"linear\", 1, \"scale\")\n",
    "dfScores = dfScores.append({'Model': \"SVM\", 'Training Score' : a, 'Testing Score' : b, 'Details': \"kernel = linear, C = 10 and gamma = scale\"}, ignore_index = True)\n",
    "print(\"\\n\")"
   ]
  },
  {
   "cell_type": "markdown",
   "metadata": {
    "id": "PAvsmTbKvdPc"
   },
   "source": [
    "#### KNN KNeighbors Regressor "
   ]
  },
  {
   "cell_type": "code",
   "execution_count": 25,
   "metadata": {
    "colab": {
     "base_uri": "https://localhost:8080/"
    },
    "id": "GisbbHHERtut",
    "outputId": "486df1e4-eeb6-4465-db9a-cd468bd05f30"
   },
   "outputs": [
    {
     "name": "stdout",
     "output_type": "stream",
     "text": [
      "KNN regression with neighbors = 2, weights = uniform and  algorithm = auto\n",
      "Train score=  0.9864094053889036\n",
      "Test score=  0.9594363824618014\n",
      "\n",
      "\n",
      "KNN regression with neighbors = 200, weights = uniform and  algorithm = auto\n"
     ]
    },
    {
     "name": "stderr",
     "output_type": "stream",
     "text": [
      "<ipython-input-25-fff4ce9958b1>:12: FutureWarning: The frame.append method is deprecated and will be removed from pandas in a future version. Use pandas.concat instead.\n",
      "  dfScores = dfScores.append({'Model': \"KNN\", 'Training Score' : a, 'Testing Score' : b, 'Details': \"neighbors = 2, weights = uniform and  algorithm = auto\"}, ignore_index = True)\n"
     ]
    },
    {
     "name": "stdout",
     "output_type": "stream",
     "text": [
      "Train score=  0.9542580397799199\n",
      "Test score=  0.9533264481682265\n",
      "\n",
      "\n",
      "KNN regression with neighbors = 500, weights = uniform and  algorithm = auto\n"
     ]
    },
    {
     "name": "stderr",
     "output_type": "stream",
     "text": [
      "<ipython-input-25-fff4ce9958b1>:16: FutureWarning: The frame.append method is deprecated and will be removed from pandas in a future version. Use pandas.concat instead.\n",
      "  dfScores = dfScores.append({'Model': \"KNN\", 'Training Score' : a, 'Testing Score' : b, 'Details': \"neighbors = 200, weights = uniform and  algorithm = auto\"}, ignore_index = True)\n"
     ]
    },
    {
     "name": "stdout",
     "output_type": "stream",
     "text": [
      "Train score=  0.9329065523047755\n",
      "Test score=  0.9331751470914511\n",
      "\n",
      "\n",
      "KNN regression with neighbors = 750, weights = uniform and  algorithm = auto\n"
     ]
    },
    {
     "name": "stderr",
     "output_type": "stream",
     "text": [
      "<ipython-input-25-fff4ce9958b1>:20: FutureWarning: The frame.append method is deprecated and will be removed from pandas in a future version. Use pandas.concat instead.\n",
      "  dfScores = dfScores.append({'Model': \"KNN\", 'Training Score' : a, 'Testing Score' : b, 'Details': \"neighbors = 500, weights = uniform and  algorithm = auto\"}, ignore_index = True)\n"
     ]
    },
    {
     "name": "stdout",
     "output_type": "stream",
     "text": [
      "Train score=  0.9162300881014404\n",
      "Test score=  0.9168944127835391\n",
      "\n",
      "\n",
      "KNN regression with neighbors = 500, weights = distance and  algorithm = auto\n"
     ]
    },
    {
     "name": "stderr",
     "output_type": "stream",
     "text": [
      "<ipython-input-25-fff4ce9958b1>:24: FutureWarning: The frame.append method is deprecated and will be removed from pandas in a future version. Use pandas.concat instead.\n",
      "  dfScores = dfScores.append({'Model': \"KNN\", 'Training Score' : a, 'Testing Score' : b, 'Details': \"neighbors = 750, weights = uniform and  algorithm = auto\"}, ignore_index = True)\n"
     ]
    },
    {
     "name": "stdout",
     "output_type": "stream",
     "text": [
      "Train score=  1.0\n",
      "Test score=  0.9443992230509928\n",
      "\n",
      "\n"
     ]
    },
    {
     "name": "stderr",
     "output_type": "stream",
     "text": [
      "<ipython-input-25-fff4ce9958b1>:28: FutureWarning: The frame.append method is deprecated and will be removed from pandas in a future version. Use pandas.concat instead.\n",
      "  dfScores = dfScores.append({'Model': \"KNN\", 'Training Score' : a, 'Testing Score' : b, 'Details': \"neighbors = 500, weights = distance and  algorithm = auto\"}, ignore_index = True)\n"
     ]
    }
   ],
   "source": [
    "#Uso de la funcion kNNRegression con visualizacion de Scores, definicion de neighbors, weights y algorithm\n",
    "\n",
    "#kNNRegression(X_train, X_test, y_train, y_test, showScore, n, weights, algorithm)\n",
    "#n: Number of neighbors to use\n",
    "#weights = 'uniform', assigns equal weights to all points. \n",
    "#weights = 'distance' assigns weights proportional to the inverse of the distance from the query point\n",
    "#algorithm{‘auto’, ‘ball_tree’, ‘kd_tree’, ‘brute’}, default=’auto’\n",
    "#Algorithm used to compute the nearest neighbors\n",
    "\n",
    "print(\"KNN regression with neighbors = 2, weights = uniform and  algorithm = auto\")\n",
    "a, b = kNNRegression(X_train, X_test, y_train, y_test, True, 2, \"uniform\", \"auto\")\n",
    "dfScores = dfScores.append({'Model': \"KNN\", 'Training Score' : a, 'Testing Score' : b, 'Details': \"neighbors = 2, weights = uniform and  algorithm = auto\"}, ignore_index = True)\n",
    "print(\"\\n\")\n",
    "print(\"KNN regression with neighbors = 200, weights = uniform and  algorithm = auto\")\n",
    "a, b = kNNRegression(X_train, X_test, y_train, y_test, True, 200, \"uniform\", \"auto\")\n",
    "dfScores = dfScores.append({'Model': \"KNN\", 'Training Score' : a, 'Testing Score' : b, 'Details': \"neighbors = 200, weights = uniform and  algorithm = auto\"}, ignore_index = True)\n",
    "print(\"\\n\")\n",
    "print(\"KNN regression with neighbors = 500, weights = uniform and  algorithm = auto\")\n",
    "a, b = kNNRegression(X_train, X_test, y_train, y_test, True, 500, \"uniform\", \"auto\")\n",
    "dfScores = dfScores.append({'Model': \"KNN\", 'Training Score' : a, 'Testing Score' : b, 'Details': \"neighbors = 500, weights = uniform and  algorithm = auto\"}, ignore_index = True)\n",
    "print(\"\\n\")\n",
    "print(\"KNN regression with neighbors = 750, weights = uniform and  algorithm = auto\")\n",
    "a, b = kNNRegression(X_train, X_test, y_train, y_test, True, 750, \"uniform\", \"auto\")\n",
    "dfScores = dfScores.append({'Model': \"KNN\", 'Training Score' : a, 'Testing Score' : b, 'Details': \"neighbors = 750, weights = uniform and  algorithm = auto\"}, ignore_index = True)\n",
    "print(\"\\n\")\n",
    "print(\"KNN regression with neighbors = 500, weights = distance and  algorithm = auto\")\n",
    "a, b = kNNRegression(X_train, X_test, y_train, y_test, True, 500, \"distance\", \"auto\")\n",
    "dfScores = dfScores.append({'Model': \"KNN\", 'Training Score' : a, 'Testing Score' : b, 'Details': \"neighbors = 500, weights = distance and  algorithm = auto\"}, ignore_index = True)\n",
    "print(\"\\n\")"
   ]
  },
  {
   "cell_type": "markdown",
   "metadata": {
    "id": "biqoUdtVvI3S"
   },
   "source": [
    "#### Decision Tree Regressor"
   ]
  },
  {
   "cell_type": "code",
   "execution_count": 26,
   "metadata": {
    "colab": {
     "base_uri": "https://localhost:8080/"
    },
    "id": "BtkcPCdaWP_Y",
    "outputId": "2e0bd75a-6878-4b22-8fcd-44b89e695132"
   },
   "outputs": [
    {
     "name": "stdout",
     "output_type": "stream",
     "text": [
      "DecisionTreeRegressor with n_estimators = 10, criterion = squared_error and max_depth = None\n",
      "Train score=  0.9944096104003797\n",
      "Test score=  0.9654039983552299\n",
      "\n",
      "\n",
      "DecisionTreeRegressor with n_estimators = 100, criterion = squared_error and max_depth = None\n"
     ]
    },
    {
     "name": "stderr",
     "output_type": "stream",
     "text": [
      "<ipython-input-26-ffb1b38cde22>:15: FutureWarning: The frame.append method is deprecated and will be removed from pandas in a future version. Use pandas.concat instead.\n",
      "  dfScores = dfScores.append({'Model': \"Decision Tree Regressor\", 'Training Score' : a, 'Testing Score' : b, 'Details': \"n_estimators = 10, criterion = squared_error and max_depth = None\"}, ignore_index = True)\n"
     ]
    },
    {
     "name": "stdout",
     "output_type": "stream",
     "text": [
      "Train score=  0.995809345684443\n",
      "Test score=  0.9674522469823327\n",
      "\n",
      "\n",
      "DecisionTreeRegressor with n_estimators = 10, criterion = squared_error and max_depth = 5\n",
      "Train score=  0.9693514707567726\n",
      "Test score=  0.9635863577751697\n",
      "\n",
      "\n",
      "DecisionTreeRegressor with n_estimators = 10, criterion = absolute_error and max_depth = None\n"
     ]
    },
    {
     "name": "stderr",
     "output_type": "stream",
     "text": [
      "<ipython-input-26-ffb1b38cde22>:19: FutureWarning: The frame.append method is deprecated and will be removed from pandas in a future version. Use pandas.concat instead.\n",
      "  dfScores = dfScores.append({'Model': \"Decision Tree Regressor\", 'Training Score' : a, 'Testing Score' : b, 'Details': \"n_estimators = 100, criterion = squared_error and max_depth = None\"}, ignore_index = True)\n",
      "<ipython-input-26-ffb1b38cde22>:23: FutureWarning: The frame.append method is deprecated and will be removed from pandas in a future version. Use pandas.concat instead.\n",
      "  dfScores = dfScores.append({'Model': \"Decision Tree Regressor\", 'Training Score' : a, 'Testing Score' : b, 'Details': \"n_estimators = 10, criterion = squared_error and max_depth = 5\"}, ignore_index = True)\n"
     ]
    },
    {
     "name": "stdout",
     "output_type": "stream",
     "text": [
      "Train score=  0.9940192206006377\n",
      "Test score=  0.9650192803878934\n",
      "\n",
      "\n",
      "DecisionTreeRegressor with n_estimators = 10, criterion = poisson and max_depth = None\n"
     ]
    },
    {
     "name": "stderr",
     "output_type": "stream",
     "text": [
      "<ipython-input-26-ffb1b38cde22>:27: FutureWarning: The frame.append method is deprecated and will be removed from pandas in a future version. Use pandas.concat instead.\n",
      "  dfScores = dfScores.append({'Model': \"Decision Tree Regressor\", 'Training Score' : a, 'Testing Score' : b, 'Details': \"n_estimators = 10, criterion = absolute_error and max_depth = None\"}, ignore_index = True)\n"
     ]
    },
    {
     "name": "stdout",
     "output_type": "stream",
     "text": [
      "Train score=  0.992924422437428\n",
      "Test score=  0.9558322157337604\n",
      "\n",
      "\n"
     ]
    },
    {
     "name": "stderr",
     "output_type": "stream",
     "text": [
      "<ipython-input-26-ffb1b38cde22>:31: FutureWarning: The frame.append method is deprecated and will be removed from pandas in a future version. Use pandas.concat instead.\n",
      "  dfScores = dfScores.append({'Model': \"Decision Tree Regressor\", 'Training Score' : a, 'Testing Score' : b, 'Details': \"n_estimators = 10, criterion = poisson and max_depth = None\"}, ignore_index = True)\n"
     ]
    }
   ],
   "source": [
    "#Uso de la funcion DTRegressor con visualizacion de Scores, visualizacion de clasificacion de features, definicion de estimators, criterion y max_depth\n",
    "\n",
    "#DTRegressor (X_train, X_test, y_train, y_test, showScore = False, showClassifier, n, criterion, max_depth)\n",
    "#n_estimators: The number of trees in the forest.\n",
    "#criterion : {\"squared_error\", \"absolute_error\", \"poisson\"}\n",
    "#The function to measure the quality of a split. Supported criteria are \"squared_error\" for the mean squared error, \n",
    "#which is equal to variance reduction as feature selection criterion, \"absolute_error\" for the mean absolute error, \n",
    "#and \"poisson\" which uses reduction in Poisson deviance to find splits. Training using \"absolute_error\" is significantly \n",
    "#slower than when using \"squared_error\".\n",
    "#max_depth: The maximum depth of the tree. \n",
    "#If None, then nodes are expanded until all leaves are pure or until all leaves contain less than min_samples_split samples.\n",
    "\n",
    "print(\"DecisionTreeRegressor with n_estimators = 10, criterion = squared_error and max_depth = None\")\n",
    "a, b = DTRegressor (X_train, X_test, y_train, y_test, True, False, 10, \"squared_error\", None)\n",
    "dfScores = dfScores.append({'Model': \"Decision Tree Regressor\", 'Training Score' : a, 'Testing Score' : b, 'Details': \"n_estimators = 10, criterion = squared_error and max_depth = None\"}, ignore_index = True)\n",
    "print(\"\\n\")\n",
    "print(\"DecisionTreeRegressor with n_estimators = 100, criterion = squared_error and max_depth = None\")\n",
    "a, b = DTRegressor (X_train, X_test, y_train, y_test, True, False, 100, \"squared_error\", None)\n",
    "dfScores = dfScores.append({'Model': \"Decision Tree Regressor\", 'Training Score' : a, 'Testing Score' : b, 'Details': \"n_estimators = 100, criterion = squared_error and max_depth = None\"}, ignore_index = True)\n",
    "print(\"\\n\")\n",
    "print(\"DecisionTreeRegressor with n_estimators = 10, criterion = squared_error and max_depth = 5\")\n",
    "a, b = DTRegressor (X_train, X_test, y_train, y_test, True, False, 10, \"squared_error\", 5)\n",
    "dfScores = dfScores.append({'Model': \"Decision Tree Regressor\", 'Training Score' : a, 'Testing Score' : b, 'Details': \"n_estimators = 10, criterion = squared_error and max_depth = 5\"}, ignore_index = True)\n",
    "print(\"\\n\")\n",
    "print(\"DecisionTreeRegressor with n_estimators = 10, criterion = absolute_error and max_depth = None\")\n",
    "a, b = DTRegressor (X_train, X_test, y_train, y_test, True, False, 10, \"absolute_error\", None)\n",
    "dfScores = dfScores.append({'Model': \"Decision Tree Regressor\", 'Training Score' : a, 'Testing Score' : b, 'Details': \"n_estimators = 10, criterion = absolute_error and max_depth = None\"}, ignore_index = True)\n",
    "print(\"\\n\")\n",
    "print(\"DecisionTreeRegressor with n_estimators = 10, criterion = poisson and max_depth = None\")\n",
    "a, b = DTRegressor (X_train, X_test, y_train, y_test, True, False, 10, \"poisson\", None)\n",
    "dfScores = dfScores.append({'Model': \"Decision Tree Regressor\", 'Training Score' : a, 'Testing Score' : b, 'Details': \"n_estimators = 10, criterion = poisson and max_depth = None\"}, ignore_index = True)\n",
    "print(\"\\n\")"
   ]
  },
  {
   "cell_type": "markdown",
   "metadata": {
    "id": "j9MRI5AJauZq"
   },
   "source": [
    "###Metodo de Emsamble"
   ]
  },
  {
   "cell_type": "markdown",
   "metadata": {
    "id": "dMWvCGtWCZG1"
   },
   "source": [
    "#### Voting Regressor"
   ]
  },
  {
   "cell_type": "code",
   "execution_count": 27,
   "metadata": {
    "id": "wt7Mmh05Bi5F"
   },
   "outputs": [],
   "source": [
    "#ensemble methods\n",
    "from sklearn.ensemble import GradientBoostingRegressor\n",
    "from sklearn.ensemble import RandomForestRegressor\n",
    "from sklearn.linear_model import LinearRegression\n",
    "from sklearn.ensemble import VotingRegressor\n",
    "\n",
    "# Training classifiers\n",
    "reg1 = GradientBoostingRegressor(random_state=10)\n",
    "reg2 = RandomForestRegressor(random_state=10)\n",
    "reg3 = LinearRegression()\n",
    "ereg = VotingRegressor(estimators=[('gb', reg1), ('rf', reg2), ('lr', reg3)])\n",
    "ereg = ereg.fit(X_train, y_train)\n"
   ]
  },
  {
   "cell_type": "code",
   "execution_count": 28,
   "metadata": {
    "colab": {
     "base_uri": "https://localhost:8080/"
    },
    "id": "tc4ci6cIDFVQ",
    "outputId": "ae2e65e9-c1da-419a-a974-b1f00e4e895d"
   },
   "outputs": [
    {
     "name": "stdout",
     "output_type": "stream",
     "text": [
      "Train score=  0.9829543641666864\n",
      "Test score=  0.9700245615616411\n"
     ]
    },
    {
     "name": "stderr",
     "output_type": "stream",
     "text": [
      "<ipython-input-28-ade60c1c868f>:5: FutureWarning: The frame.append method is deprecated and will be removed from pandas in a future version. Use pandas.concat instead.\n",
      "  dfScores = dfScores.append({'Model': \"Voting Regressor\", 'Training Score' : a, 'Testing Score' : b, 'Details': \"3 methods used\"}, ignore_index = True)\n"
     ]
    }
   ],
   "source": [
    "a = ereg.score(X_train,y_train)\n",
    "b = ereg.score(X_test,y_test)\n",
    "print(\"Train score= \", a)\n",
    "print(\"Test score= \", b)\n",
    "dfScores = dfScores.append({'Model': \"Voting Regressor\", 'Training Score' : a, 'Testing Score' : b, 'Details': \"3 methods used\"}, ignore_index = True)"
   ]
  },
  {
   "cell_type": "code",
   "execution_count": 29,
   "metadata": {
    "colab": {
     "base_uri": "https://localhost:8080/",
     "height": 278
    },
    "id": "2a75WHNMDm5J",
    "outputId": "c84dfd4a-4559-4b98-f238-493413d7fa08"
   },
   "outputs": [
    {
     "data": {
      "image/png": "[encoded data removed]",
      "text/plain": [
       "<Figure size 432x288 with 1 Axes>"
      ]
     },
     "metadata": {
      "needs_background": "light"
     },
     "output_type": "display_data"
    }
   ],
   "source": [
    "reg1.fit(X_train,y_train)\n",
    "reg2.fit(X_train,y_train)\n",
    "reg3.fit(X_train,y_train)\n",
    "\n",
    "xt = X_train[:20]\n",
    "\n",
    "pred1 = reg1.predict(xt)\n",
    "pred2 = reg2.predict(xt)\n",
    "pred3 = reg3.predict(xt)\n",
    "pred4 = ereg.predict(xt)\n",
    "\n",
    "plt.figure()\n",
    "plt.plot(pred1, \"gd\", label=\"GradientBoostingRegressor\")\n",
    "plt.plot(pred2, \"b^\", label=\"RandomForestRegressor\")\n",
    "plt.plot(pred3, \"ys\", label=\"LinearRegression\")\n",
    "plt.plot(pred4, \"r*\", ms=10, label=\"VotingRegressor\")\n",
    "\n",
    "plt.tick_params(axis=\"x\", which=\"both\", bottom=False, top=False, labelbottom=False)\n",
    "plt.ylabel(\"predicted\")\n",
    "plt.xlabel(\"training samples\")\n",
    "plt.legend(loc=\"best\")\n",
    "plt.title(\"Regressor predictions and their average\")\n",
    "\n",
    "plt.show()\n",
    "\n"
   ]
  },
  {
   "cell_type": "markdown",
   "metadata": {
    "id": "4yH5xy2yPm0U"
   },
   "source": [
    "###Results Summary - Caso 1"
   ]
  },
  {
   "cell_type": "code",
   "execution_count": 30,
   "metadata": {
    "colab": {
     "base_uri": "https://localhost:8080/",
     "height": 839
    },
    "id": "lISKh06WDkOo",
    "outputId": "58d1cab0-c0ae-4653-c045-472d2826121c"
   },
   "outputs": [
    {
     "ename": "ModuleNotFoundError",
     "evalue": "No module named 'google'",
     "output_type": "error",
     "traceback": [
      "\u001b[1;31m---------------------------------------------------------------------------\u001b[0m",
      "\u001b[1;31mModuleNotFoundError\u001b[0m                       Traceback (most recent call last)",
      "\u001b[1;32m<ipython-input-30-87548b391123>\u001b[0m in \u001b[0;36m<module>\u001b[1;34m\u001b[0m\n\u001b[1;32m----> 1\u001b[1;33m \u001b[1;32mfrom\u001b[0m \u001b[0mgoogle\u001b[0m\u001b[1;33m.\u001b[0m\u001b[0mcolab\u001b[0m \u001b[1;32mimport\u001b[0m \u001b[0mdata_table\u001b[0m\u001b[1;33m\u001b[0m\u001b[1;33m\u001b[0m\u001b[0m\n\u001b[0m\u001b[0;32m      2\u001b[0m \u001b[0mdata_table\u001b[0m\u001b[1;33m.\u001b[0m\u001b[0menable_dataframe_formatter\u001b[0m\u001b[1;33m(\u001b[0m\u001b[1;33m)\u001b[0m\u001b[1;33m\u001b[0m\u001b[1;33m\u001b[0m\u001b[0m\n\u001b[0;32m      3\u001b[0m \u001b[1;33m\u001b[0m\u001b[0m\n\u001b[0;32m      4\u001b[0m \u001b[1;31m#Desplegar tabla resumen de resultados\u001b[0m\u001b[1;33m\u001b[0m\u001b[1;33m\u001b[0m\u001b[0m\n\u001b[0;32m      5\u001b[0m \u001b[0mprint\u001b[0m\u001b[1;33m(\u001b[0m\u001b[1;34m\"Scores Summary Table\"\u001b[0m\u001b[1;33m)\u001b[0m\u001b[1;33m\u001b[0m\u001b[1;33m\u001b[0m\u001b[0m\n",
      "\u001b[1;31mModuleNotFoundError\u001b[0m: No module named 'google'"
     ]
    }
   ],
   "source": [
    "from google.colab import data_table\n",
    "data_table.enable_dataframe_formatter()\n",
    "\n",
    "#Desplegar tabla resumen de resultados\n",
    "print(\"Scores Summary Table\")\n",
    "display(dfScores)\n",
    "print(\"=========================================================================================================\")\n",
    "print(\"Highest Training Score:\")\n",
    "tempMaxScore = dfScores['Training Score'].max()\n",
    "display(dfScores[dfScores['Training Score'] == tempMaxScore])\n",
    "print(\"=========================================================================================================\")\n",
    "print(\"Highest Testing Score:\")\n",
    "tempMaxScore = dfScores['Testing Score'].max()\n",
    "display(dfScores[dfScores['Testing Score'] == tempMaxScore])\n"
   ]
  },
  {
   "cell_type": "code",
   "execution_count": null,
   "metadata": {
    "colab": {
     "base_uri": "https://localhost:8080/",
     "height": 403
    },
    "id": "VP0sOnccPSwo",
    "outputId": "00500ff9-595d-48b5-895d-4fdc8a05c783"
   },
   "outputs": [],
   "source": [
    "print(\"Decision Tree Regression - importances features\")\n",
    "a, b = DTRegressor (X_train, X_test, y_train, y_test, True, True, 100, \"squared_error\", None)"
   ]
  },
  {
   "cell_type": "markdown",
   "metadata": {
    "id": "_9f80074Vj1G"
   },
   "source": [
    "###Concluciones del Caso 1"
   ]
  },
  {
   "cell_type": "markdown",
   "metadata": {
    "id": "MYHowDsAWEes"
   },
   "source": [
    "En base a las pruebas realizadas y los datos seleccionados se tiene que el mejor resultado lo tiene el Metodo de Emsamble Voting Regressor, ya que tiene los Scores (training & testing) mas altos de manera balanceada. Ademas, basado en el grafico de las caracteristicas mas importantes, en la celda anterior, temperatura maxima es la caracteristica predominante para predecir ETO."
   ]
  },
  {
   "cell_type": "markdown",
   "metadata": {
    "id": "uPxqfL54WvSO"
   },
   "source": [
    "##Paso 4: Caso 2. Aplicacion de los diferentes metodos de regresion"
   ]
  },
  {
   "cell_type": "markdown",
   "metadata": {
    "id": "k7kL1IvHWvSO"
   },
   "source": [
    "Definicion de Features y Targets, con la separacion de los Dtaos para Training & Testing"
   ]
  },
  {
   "cell_type": "code",
   "execution_count": null,
   "metadata": {
    "id": "8vMSdVckWvSO"
   },
   "outputs": [],
   "source": [
    "#Definicion de features o targets, segun caso\n",
    "\n",
    "features = df[['top_rad','surface_rad','uva-ra','rel_hum','surface_pres','prec']]\n",
    "targets = df['t_max']\n",
    "\n"
   ]
  },
  {
   "cell_type": "code",
   "execution_count": null,
   "metadata": {
    "colab": {
     "base_uri": "https://localhost:8080/"
    },
    "id": "dlfjLexMWvSO",
    "outputId": "87d70b9c-e621-47dc-cb0d-da5f89ff42ec"
   },
   "outputs": [],
   "source": [
    "#Uso de funcion Data_Segregation, con un random_state de 13 y la visualizacion de tamanos activa\n",
    "X_train, X_test, y_train, y_test = Data_Segregation (features,targets, 13, True)"
   ]
  },
  {
   "cell_type": "markdown",
   "metadata": {
    "id": "IxjoorajWvSO"
   },
   "source": [
    "### Aplicacion de los modelos de regresion "
   ]
  },
  {
   "cell_type": "code",
   "execution_count": null,
   "metadata": {
    "id": "5cbQV2NiWvSP"
   },
   "outputs": [],
   "source": [
    "#Creacion de un DataFrame para almacenar los difernetes Scores \n",
    "import pandas as pd\n",
    "\n",
    "#Definicion de columnas\n",
    "columnsSummary = ['Model', 'Training Score', 'Testing Score', 'Details']\n",
    "\n",
    "# Creacion del Data Frame vacio\n",
    "dfScores = pd.DataFrame(columns = columnsSummary)\n"
   ]
  },
  {
   "cell_type": "markdown",
   "metadata": {
    "id": "Lhr4To-QWvSP"
   },
   "source": [
    "####Modelos Lineales"
   ]
  },
  {
   "cell_type": "code",
   "execution_count": null,
   "metadata": {
    "colab": {
     "base_uri": "https://localhost:8080/"
    },
    "id": "EpGONlarWvSP",
    "outputId": "c84a3c96-2889-4222-ab34-c74f95fd7b3a"
   },
   "outputs": [],
   "source": [
    "#Uso de funcion Linear_Regression, con visualizacion de Scores y opcion de Non-negative least squares en el ultimo parametro de la funcion\n",
    "#(\"When set to True, forces the coefficients to be positive\")\n",
    "\n",
    "print(\"Ordinary Least Squares\")\n",
    "a, b = Linear_Regression(X_train, X_test, y_train, y_test, True, False)\n",
    "dfScores = dfScores.append({'Model': \"Ordinary Least Squares\", 'Training Score' : a, 'Testing Score' : b, 'Details': \"N/A\"}, ignore_index = True)\n",
    "\n",
    "print(\"\\n\")\n",
    "print(\"Ordinary Least Squares and Non-negative least squares\")\n",
    "a, b = Linear_Regression(X_train, X_test, y_train, y_test, True, True)\n",
    "dfScores = dfScores.append({'Model': \"Ordinary Least Squares\", 'Training Score' : a, 'Testing Score' : b, 'Details': \"Non-negative least squares\"}, ignore_index = True)"
   ]
  },
  {
   "cell_type": "code",
   "execution_count": null,
   "metadata": {
    "colab": {
     "base_uri": "https://localhost:8080/"
    },
    "id": "zLYqfvBHWvSP",
    "outputId": "8992e669-1f07-4531-b465-64f15ae16070"
   },
   "outputs": [],
   "source": [
    "#Uso de funcion LRRidge, con visualizacion de Scores, opcion de Non-negative least squares y opcion de Regularization strength (alpha)\n",
    "\n",
    "print(\"Ridge regression and alpha equal to 0.5\")\n",
    "a, b = LRRidge(X_train, X_test, y_train, y_test, True, False, 0.5)\n",
    "dfScores = dfScores.append({'Model': \"Ridge regression\", 'Training Score' : a, 'Testing Score' : b, 'Details': \"Alpha = 0.5\"}, ignore_index = True)\n",
    "print(\"\\n\")\n",
    "print(\"Ridge regression and alpha equal to 0.1\")\n",
    "a, b = LRRidge(X_train, X_test, y_train, y_test, True, False, 1)\n",
    "dfScores = dfScores.append({'Model': \"Ridge regression\", 'Training Score' : a, 'Testing Score' : b, 'Details': \"Alpha = 1\"}, ignore_index = True)\n",
    "print(\"\\n\")\n",
    "print(\"Ridge regression, alpha equal to 0.5 and Non-negative least squares\")\n",
    "a, b = LRRidge(X_train, X_test, y_train, y_test, True, True, 0.5)\n",
    "dfScores = dfScores.append({'Model': \"Ridge regression\", 'Training Score' : a, 'Testing Score' : b, 'Details': \"Alpha = 0.5 & Non-negative least squares\"}, ignore_index = True)\n",
    "print(\"\\n\")\n",
    "print(\"Ridge regression alpha equal to 0.1 and Non-negative least squares\")\n",
    "a, b = LRRidge(X_train, X_test, y_train, y_test, True, True, 1)\n",
    "dfScores = dfScores.append({'Model': \"Ridge regression\", 'Training Score' : a, 'Testing Score' : b, 'Details': \"Alpha = 1 & Non-negative least squares\"}, ignore_index = True)\n",
    "print(\"\\n\")"
   ]
  },
  {
   "cell_type": "markdown",
   "metadata": {
    "id": "J5Wmz3xZWvSP"
   },
   "source": [
    "#### Modelo Maquina de Soporte Vectorial "
   ]
  },
  {
   "cell_type": "code",
   "execution_count": null,
   "metadata": {
    "colab": {
     "base_uri": "https://localhost:8080/"
    },
    "id": "0YlYAEdoWvSQ",
    "outputId": "319e782d-7388-4081-c3ef-6604c15f74f6"
   },
   "outputs": [],
   "source": [
    "#Uso de la funcion SVMachine con visualizacion de Scores, definicion de Kernel, C y gamma\n",
    "print(\"SVM with kernel = rbf, C = 1 and gamma = auto\")\n",
    "a, b = SVMachine(X_train, X_test, y_train, y_test, True, \"rbf\", 1, \"auto\")\n",
    "dfScores = dfScores.append({'Model': \"SVM\", 'Training Score' : a, 'Testing Score' : b, 'Details': \"kernel = rbf, C = 1 and gamma = auto\"}, ignore_index = True)\n",
    "print(\"\\n\")\n",
    "print(\"SVM with kernel = rbf, C = 10 and gamma = auto\")\n",
    "a, b = SVMachine(X_train, X_test, y_train, y_test, True, \"rbf\", 10, \"auto\")\n",
    "dfScores = dfScores.append({'Model': \"SVM\", 'Training Score' : a, 'Testing Score' : b, 'Details': \"kernel = rbf, C = 10 and gamma = auto\"}, ignore_index = True)\n",
    "print(\"\\n\")\n",
    "print(\"SVM with kernel = linear, C = 1 and gamma = auto\")\n",
    "a, b = SVMachine(X_train, X_test, y_train, y_test, True, \"linear\", 1, \"auto\")\n",
    "dfScores = dfScores.append({'Model': \"SVM\", 'Training Score' : a, 'Testing Score' : b, 'Details': \"kernel = linear, C = 1 and gamma = auto\"}, ignore_index = True)\n",
    "print(\"\\n\")\n",
    "print(\"SVM with kernel = linear, C = 10 and gamma = auto\")\n",
    "a, b = SVMachine(X_train, X_test, y_train, y_test, True, \"linear\", 10, \"auto\")\n",
    "dfScores = dfScores.append({'Model': \"SVM\", 'Training Score' : a, 'Testing Score' : b, 'Details': \"kernel = linear, C = 10 and gamma = auto\"}, ignore_index = True)\n",
    "print(\"\\n\")\n",
    "print(\"SVM with kernel = linear, C = 1 and gamma = scale\")\n",
    "a, b = SVMachine(X_train, X_test, y_train, y_test, True, \"linear\", 1, \"scale\")\n",
    "dfScores = dfScores.append({'Model': \"SVM\", 'Training Score' : a, 'Testing Score' : b, 'Details': \"kernel = linear, C = 10 and gamma = scale\"}, ignore_index = True)\n",
    "print(\"\\n\")"
   ]
  },
  {
   "cell_type": "markdown",
   "metadata": {
    "id": "2QWHg8O0WvSQ"
   },
   "source": [
    "#### KNN KNeighbors Regressor "
   ]
  },
  {
   "cell_type": "code",
   "execution_count": null,
   "metadata": {
    "colab": {
     "base_uri": "https://localhost:8080/"
    },
    "id": "dX2JcLrlWvSQ",
    "outputId": "83a64a2a-ecc9-48b6-f43c-3f39b50a94e8"
   },
   "outputs": [],
   "source": [
    "#Uso de la funcion kNNRegression con visualizacion de Scores, definicion de neighbors, weights y algorithm\n",
    "\n",
    "#kNNRegression(X_train, X_test, y_train, y_test, showScore, n, weights, algorithm)\n",
    "#n: Number of neighbors to use\n",
    "#weights = 'uniform', assigns equal weights to all points. \n",
    "#weights = 'distance' assigns weights proportional to the inverse of the distance from the query point\n",
    "#algorithm{‘auto’, ‘ball_tree’, ‘kd_tree’, ‘brute’}, default=’auto’\n",
    "#Algorithm used to compute the nearest neighbors\n",
    "\n",
    "print(\"KNN regression with neighbors = 2, weights = uniform and  algorithm = auto\")\n",
    "a, b = kNNRegression(X_train, X_test, y_train, y_test, True, 2, \"uniform\", \"auto\")\n",
    "dfScores = dfScores.append({'Model': \"KNN\", 'Training Score' : a, 'Testing Score' : b, 'Details': \"neighbors = 2, weights = uniform and  algorithm = auto\"}, ignore_index = True)\n",
    "print(\"\\n\")\n",
    "print(\"KNN regression with neighbors = 200, weights = uniform and  algorithm = auto\")\n",
    "a, b = kNNRegression(X_train, X_test, y_train, y_test, True, 200, \"uniform\", \"auto\")\n",
    "dfScores = dfScores.append({'Model': \"KNN\", 'Training Score' : a, 'Testing Score' : b, 'Details': \"neighbors = 200, weights = uniform and  algorithm = auto\"}, ignore_index = True)\n",
    "print(\"\\n\")\n",
    "print(\"KNN regression with neighbors = 500, weights = uniform and  algorithm = auto\")\n",
    "a, b = kNNRegression(X_train, X_test, y_train, y_test, True, 500, \"uniform\", \"auto\")\n",
    "dfScores = dfScores.append({'Model': \"KNN\", 'Training Score' : a, 'Testing Score' : b, 'Details': \"neighbors = 500, weights = uniform and  algorithm = auto\"}, ignore_index = True)\n",
    "print(\"\\n\")\n",
    "print(\"KNN regression with neighbors = 750, weights = uniform and  algorithm = auto\")\n",
    "a, b = kNNRegression(X_train, X_test, y_train, y_test, True, 750, \"uniform\", \"auto\")\n",
    "dfScores = dfScores.append({'Model': \"KNN\", 'Training Score' : a, 'Testing Score' : b, 'Details': \"neighbors = 750, weights = uniform and  algorithm = auto\"}, ignore_index = True)\n",
    "print(\"\\n\")\n",
    "print(\"KNN regression with neighbors = 500, weights = distance and  algorithm = auto\")\n",
    "a, b = kNNRegression(X_train, X_test, y_train, y_test, True, 500, \"distance\", \"auto\")\n",
    "dfScores = dfScores.append({'Model': \"KNN\", 'Training Score' : a, 'Testing Score' : b, 'Details': \"neighbors = 500, weights = distance and  algorithm = auto\"}, ignore_index = True)\n",
    "print(\"\\n\")"
   ]
  },
  {
   "cell_type": "markdown",
   "metadata": {
    "id": "CSj_3IwdWvSR"
   },
   "source": [
    "#### Decision Tree Regressor"
   ]
  },
  {
   "cell_type": "code",
   "execution_count": null,
   "metadata": {
    "colab": {
     "base_uri": "https://localhost:8080/"
    },
    "id": "bcBbje9qWvSR",
    "outputId": "5a096edc-ccd5-4d07-b368-116424a2a49c"
   },
   "outputs": [],
   "source": [
    "#Uso de la funcion DTRegressor con visualizacion de Scores, visualizacion de clasificacion de features, definicion de estimators, criterion y max_depth\n",
    "\n",
    "#DTRegressor (X_train, X_test, y_train, y_test, showScore = False, showClassifier, n, criterion, max_depth)\n",
    "#n_estimators: The number of trees in the forest.\n",
    "#criterion : {\"squared_error\", \"absolute_error\", \"poisson\"}\n",
    "#The function to measure the quality of a split. Supported criteria are \"squared_error\" for the mean squared error, \n",
    "#which is equal to variance reduction as feature selection criterion, \"absolute_error\" for the mean absolute error, \n",
    "#and \"poisson\" which uses reduction in Poisson deviance to find splits. Training using \"absolute_error\" is significantly \n",
    "#slower than when using \"squared_error\".\n",
    "#max_depth: The maximum depth of the tree. \n",
    "#If None, then nodes are expanded until all leaves are pure or until all leaves contain less than min_samples_split samples.\n",
    "\n",
    "print(\"DecisionTreeRegressor with n_estimators = 10, criterion = squared_error and max_depth = None\")\n",
    "a, b = DTRegressor (X_train, X_test, y_train, y_test, True, False, 10, \"squared_error\", None)\n",
    "dfScores = dfScores.append({'Model': \"Decision Tree Regressor\", 'Training Score' : a, 'Testing Score' : b, 'Details': \"n_estimators = 10, criterion = squared_error and max_depth = None\"}, ignore_index = True)\n",
    "print(\"\\n\")\n",
    "print(\"DecisionTreeRegressor with n_estimators = 100, criterion = squared_error and max_depth = None\")\n",
    "a, b = DTRegressor (X_train, X_test, y_train, y_test, True, False, 100, \"squared_error\", None)\n",
    "dfScores = dfScores.append({'Model': \"Decision Tree Regressor\", 'Training Score' : a, 'Testing Score' : b, 'Details': \"n_estimators = 100, criterion = squared_error and max_depth = None\"}, ignore_index = True)\n",
    "print(\"\\n\")\n",
    "print(\"DecisionTreeRegressor with n_estimators = 10, criterion = squared_error and max_depth = 5\")\n",
    "a, b = DTRegressor (X_train, X_test, y_train, y_test, True, False, 10, \"squared_error\", 5)\n",
    "dfScores = dfScores.append({'Model': \"Decision Tree Regressor\", 'Training Score' : a, 'Testing Score' : b, 'Details': \"n_estimators = 10, criterion = squared_error and max_depth = 5\"}, ignore_index = True)\n",
    "print(\"\\n\")\n",
    "print(\"DecisionTreeRegressor with n_estimators = 10, criterion = absolute_error and max_depth = None\")\n",
    "a, b = DTRegressor (X_train, X_test, y_train, y_test, True, False, 10, \"absolute_error\", None)\n",
    "dfScores = dfScores.append({'Model': \"Decision Tree Regressor\", 'Training Score' : a, 'Testing Score' : b, 'Details': \"n_estimators = 10, criterion = absolute_error and max_depth = None\"}, ignore_index = True)\n",
    "print(\"\\n\")\n",
    "print(\"DecisionTreeRegressor with n_estimators = 10, criterion = poisson and max_depth = None\")\n",
    "a, b = DTRegressor (X_train, X_test, y_train, y_test, True, False, 10, \"poisson\", None)\n",
    "dfScores = dfScores.append({'Model': \"Decision Tree Regressor\", 'Training Score' : a, 'Testing Score' : b, 'Details': \"n_estimators = 10, criterion = poisson and max_depth = None\"}, ignore_index = True)\n",
    "print(\"\\n\")"
   ]
  },
  {
   "cell_type": "markdown",
   "metadata": {
    "id": "GDFizsYdWvSR"
   },
   "source": [
    "###Metodo de Emsamble"
   ]
  },
  {
   "cell_type": "markdown",
   "metadata": {
    "id": "KXJxIoLjWvSR"
   },
   "source": [
    "#### Voting Regressor"
   ]
  },
  {
   "cell_type": "code",
   "execution_count": null,
   "metadata": {
    "id": "H-ZVxhLEWvSR"
   },
   "outputs": [],
   "source": [
    "#ensemble methods\n",
    "from sklearn.ensemble import GradientBoostingRegressor\n",
    "from sklearn.ensemble import RandomForestRegressor\n",
    "from sklearn.linear_model import LinearRegression\n",
    "from sklearn.ensemble import VotingRegressor\n",
    "\n",
    "# Training classifiers\n",
    "reg1 = GradientBoostingRegressor(random_state=10)\n",
    "reg2 = RandomForestRegressor(random_state=10)\n",
    "reg3 = LinearRegression()\n",
    "ereg = VotingRegressor(estimators=[('gb', reg1), ('rf', reg2), ('lr', reg3)])\n",
    "ereg = ereg.fit(X_train, y_train)\n"
   ]
  },
  {
   "cell_type": "code",
   "execution_count": null,
   "metadata": {
    "colab": {
     "base_uri": "https://localhost:8080/"
    },
    "id": "bUkSZ3kEWvSR",
    "outputId": "8759123c-5a01-48a3-c807-878a8e99985d"
   },
   "outputs": [],
   "source": [
    "a = ereg.score(X_train,y_train)\n",
    "b = ereg.score(X_test,y_test)\n",
    "print(\"Train score= \", a)\n",
    "print(\"Test score= \", b)\n",
    "dfScores = dfScores.append({'Model': \"Voting Regressor\", 'Training Score' : a, 'Testing Score' : b, 'Details': \"3 methods used\"}, ignore_index = True)"
   ]
  },
  {
   "cell_type": "code",
   "execution_count": null,
   "metadata": {
    "colab": {
     "base_uri": "https://localhost:8080/",
     "height": 282
    },
    "id": "94hzmTl2WvSS",
    "outputId": "0d8404fb-8110-4ff6-8dee-b7b3729b4958"
   },
   "outputs": [],
   "source": [
    "reg1.fit(X_train,y_train)\n",
    "reg2.fit(X_train,y_train)\n",
    "reg3.fit(X_train,y_train)\n",
    "\n",
    "xt = X_train[:20]\n",
    "\n",
    "pred1 = reg1.predict(xt)\n",
    "pred2 = reg2.predict(xt)\n",
    "pred3 = reg3.predict(xt)\n",
    "pred4 = ereg.predict(xt)\n",
    "\n",
    "plt.figure()\n",
    "plt.plot(pred1, \"gd\", label=\"GradientBoostingRegressor\")\n",
    "plt.plot(pred2, \"b^\", label=\"RandomForestRegressor\")\n",
    "plt.plot(pred3, \"ys\", label=\"LinearRegression\")\n",
    "plt.plot(pred4, \"r*\", ms=10, label=\"VotingRegressor\")\n",
    "\n",
    "plt.tick_params(axis=\"x\", which=\"both\", bottom=False, top=False, labelbottom=False)\n",
    "plt.ylabel(\"predicted\")\n",
    "plt.xlabel(\"training samples\")\n",
    "plt.legend(loc=\"best\")\n",
    "plt.title(\"Regressor predictions and their average\")\n",
    "\n",
    "plt.show()\n",
    "\n"
   ]
  },
  {
   "cell_type": "markdown",
   "metadata": {
    "id": "Z81UDgJMWvSS"
   },
   "source": [
    "###Results Summary - Caso 2"
   ]
  },
  {
   "cell_type": "code",
   "execution_count": null,
   "metadata": {
    "colab": {
     "base_uri": "https://localhost:8080/",
     "height": 839
    },
    "id": "EhTyMQG6WvSS",
    "outputId": "b0951ebf-5ef9-41ad-9b6f-58fcc542c794"
   },
   "outputs": [],
   "source": [
    "from google.colab import data_table\n",
    "data_table.enable_dataframe_formatter()\n",
    "\n",
    "#Desplegar tabla resumen de resultados\n",
    "print(\"Scores Summary Table\")\n",
    "display(dfScores)\n",
    "print(\"=========================================================================================================\")\n",
    "print(\"Highest Training Score:\")\n",
    "tempMaxScore = dfScores['Training Score'].max()\n",
    "display(dfScores[dfScores['Training Score'] == tempMaxScore])\n",
    "print(\"=========================================================================================================\")\n",
    "print(\"Highest Testing Score:\")\n",
    "tempMaxScore = dfScores['Testing Score'].max()\n",
    "display(dfScores[dfScores['Testing Score'] == tempMaxScore])\n"
   ]
  },
  {
   "cell_type": "code",
   "execution_count": null,
   "metadata": {
    "colab": {
     "base_uri": "https://localhost:8080/",
     "height": 405
    },
    "id": "v_dxGevaWvSS",
    "outputId": "d6c06bc2-ef32-49a8-dcb0-9a807f07a455"
   },
   "outputs": [],
   "source": [
    "print(\"Decision Tree Regression - importances features\")\n",
    "a, b = DTRegressor (X_train, X_test, y_train, y_test, True, True, 100, \"squared_error\", None)"
   ]
  },
  {
   "cell_type": "markdown",
   "metadata": {
    "id": "WC8Jvs5VWvSS"
   },
   "source": [
    "###Concluciones del Caso 2"
   ]
  },
  {
   "cell_type": "markdown",
   "metadata": {
    "id": "FD7xTjazWvSS"
   },
   "source": [
    "En base a las pruebas realizadas y los datos seleccionados se tiene que el mejor resultado lo tiene el Metodo de Emsamble Voting Regressor, ya que tiene los Scores (training & testing) mas altos de manera balanceada. Ademas, basado en el grafico de las caracteristicas mas importantes, en la celda anterior, humedad relativa es la caracteristica predominante para predecir temperatura maxima."
   ]
  },
  {
   "cell_type": "markdown",
   "metadata": {
    "id": "mCct_ciAefnM"
   },
   "source": [
    "##Conclusion Final"
   ]
  },
  {
   "cell_type": "markdown",
   "metadata": {
    "id": "4vJYkoeweh3p"
   },
   "source": [
    "Basado en los datos y los metodos probados, el altgoritmo con mejor resultado fue el metodo de ensable Voting Regressor, para ambos casos."
   ]
  },
  {
   "cell_type": "markdown",
   "metadata": {
    "id": "F-_jFhk2hLLS"
   },
   "source": [
    "##Analisis Adicionales"
   ]
  },
  {
   "cell_type": "markdown",
   "metadata": {
    "id": "wjbc3S3ChRUF"
   },
   "source": [
    "###Observar el comportamiento de KNN con diferentes valores de neighbors"
   ]
  },
  {
   "cell_type": "code",
   "execution_count": null,
   "metadata": {
    "id": "ccJE7zuHhP66"
   },
   "outputs": [],
   "source": [
    "#Creacion de un DataFrame para almacenar los difernetes Scores \n",
    "import pandas as pd\n",
    "\n",
    "#Definicion de columnas\n",
    "columnsKNN = ['Model', 'Training Score', 'Testing Score', 'Neighbors']\n",
    "\n",
    "# Creacion del Data Frame vacio\n",
    "dfScoresKNN = pd.DataFrame(columns = columnsKNN)"
   ]
  },
  {
   "cell_type": "code",
   "execution_count": null,
   "metadata": {
    "colab": {
     "base_uri": "https://localhost:8080/",
     "height": 219
    },
    "id": "aZRmW9jwe7ZQ",
    "outputId": "81d71ac4-ea18-4eef-d6c4-64a5593f8923"
   },
   "outputs": [],
   "source": [
    "Neighbors = [1, 2,5,6,7,10]\n",
    "\n",
    "for j in Neighbors:\n",
    "  #Se usa la misma funcion utilizada anteriormente para KNN KNeighbors Regressor\n",
    "  a, b = kNNRegression(X_train, X_test, y_train, y_test, False, j, \"uniform\", \"auto\")\n",
    "  dfScoresKNN = dfScoresKNN.append({'Model': \"KNN\", 'Training Score' : a, 'Testing Score' : b, 'Neighbors': j}, ignore_index = True)\n",
    "\n",
    "display(dfScoresKNN)"
   ]
  },
  {
   "cell_type": "code",
   "execution_count": null,
   "metadata": {
    "colab": {
     "base_uri": "https://localhost:8080/",
     "height": 299
    },
    "id": "OiYZwY5jlC7x",
    "outputId": "07095d5f-a924-47ed-936d-e580297e91cc"
   },
   "outputs": [],
   "source": [
    "# importing package\n",
    "import matplotlib.pyplot as plt\n",
    "  \n",
    "x0 = dfScoresKNN['Neighbors']\n",
    "y1 = dfScoresKNN['Training Score']\n",
    "y2 = dfScoresKNN['Testing Score']\n",
    "  \n",
    "# plot lines\n",
    "plt.plot(x0, y1, label = \"Training Score\", marker='o')\n",
    "plt.plot(x0, y2, label = \"Testing Score\", marker='o')\n",
    "plt.ylim([0.85, 1])\n",
    "plt.title(\"Relation between Neighbors and Scores in a KNN Regression\")\n",
    "plt.xlabel(\"Neighbors\")\n",
    "plt.ylabel(\"Scores\")\n",
    "plt.legend()\n",
    "plt.show()"
   ]
  },
  {
   "cell_type": "markdown",
   "metadata": {
    "id": "11PcRMLcKxgB"
   },
   "source": [
    "**Conclusion:** Basado en la tabla de los Scores obtenidos con diferentes Neighbors, el mejor caso fue cuando se establecio dicho hyper-parametro con valor de 10, ya que fue donde se obtuvo los Scores (Train & Test) mas similares."
   ]
  },
  {
   "cell_type": "markdown",
   "metadata": {
    "id": "wLW7OhkDnkkL"
   },
   "source": [
    "###Observar el comportamiento de Decision Tree Regressor con diferentes valores de n_estimators"
   ]
  },
  {
   "cell_type": "code",
   "execution_count": null,
   "metadata": {
    "id": "NMXEUQnin30k"
   },
   "outputs": [],
   "source": [
    "#Creacion de un DataFrame para almacenar los difernetes Scores \n",
    "import pandas as pd\n",
    "\n",
    "#Definicion de columnas\n",
    "columnsDTR = ['Model', 'Training Score', 'Testing Score', 'n_estimators']\n",
    "\n",
    "# Creacion del Data Frame vacio\n",
    "dfScoresDTR = pd.DataFrame(columns = columnsDTR)"
   ]
  },
  {
   "cell_type": "code",
   "execution_count": null,
   "metadata": {
    "colab": {
     "base_uri": "https://localhost:8080/",
     "height": 219
    },
    "id": "vTLWjpKEoEkp",
    "outputId": "97a370b8-4acf-415b-b27f-2f44713a457c"
   },
   "outputs": [],
   "source": [
    "n_estimators = [1, 10, 50, 100, 250, 500]\n",
    "\n",
    "for j in n_estimators:\n",
    "  #Se usa la misma funcion utilizada anteriormente para Decision Tree Regressor\n",
    "  a, b = DTRegressor (X_train, X_test, y_train, y_test, False, False, j, \"squared_error\", None)  \n",
    "  dfScoresDTR = dfScoresDTR.append({'Model': \"DTR\", 'Training Score' : a, 'Testing Score' : b, 'n_estimators': j}, ignore_index = True)\n",
    "\n",
    "display(dfScoresDTR)"
   ]
  },
  {
   "cell_type": "code",
   "execution_count": null,
   "metadata": {
    "colab": {
     "base_uri": "https://localhost:8080/",
     "height": 299
    },
    "id": "Cqj47X3qpqho",
    "outputId": "c1237cf6-f0fb-489f-9018-46e9cad3bff7"
   },
   "outputs": [],
   "source": [
    "# importing package\n",
    "import matplotlib.pyplot as plt\n",
    "  \n",
    "x0 = dfScoresDTR['n_estimators']\n",
    "y1 = dfScoresDTR['Training Score']\n",
    "y2 = dfScoresDTR['Testing Score']\n",
    "  \n",
    "# plot lines\n",
    "plt.plot(x0, y1, label = \"Training Score\", marker='o')\n",
    "plt.plot(x0, y2, label = \"Testing Score\", marker='o')\n",
    "plt.ylim([0.82, 1])\n",
    "plt.title(\"Relation between n_estimators and Scores in a DT Regression\")\n",
    "plt.xlabel(\"Neighbors\")\n",
    "plt.ylabel(\"Scores\")\n",
    "plt.legend()\n",
    "plt.show()"
   ]
  },
  {
   "cell_type": "markdown",
   "metadata": {
    "id": "n2D2vln7LepG"
   },
   "source": [
    "**Conclusion:** Basado en la tabla de los Scores obtenidos con diferentes n_estimators, el mejor caso fue cuando se establecio dicho hyper-parametro con valor mayor a 10, ya que fue donde se obtuvo los Scores (Train & Test) mas similares. A pesar que los Scores mejoran con mayor valor del hyper-parametro, los cambios son muy pequenos, aumentando el procesado de datos, por lo que parece que el mejor valor es alrrededor de 50."
   ]
  }
 ],
 "metadata": {
  "colab": {
   "provenance": []
  },
  "kernelspec": {
   "display_name": "Python 3 (ipykernel)",
   "language": "python",
   "name": "python3"
  },
  "language_info": {
   "codemirror_mode": {
    "name": "ipython",
    "version": 3
   },
   "file_extension": ".py",
   "mimetype": "text/x-python",
   "name": "python",
   "nbconvert_exporter": "python",
   "pygments_lexer": "ipython3",
   "version": "3.9.13"
  }
 },
 "nbformat": 4,
 "nbformat_minor": 1
}
