{
 "cells": [
  {
   "cell_type": "markdown",
   "id": "ad26fd9c",
   "metadata": {},
   "source": [
    "![image](https://www.earth.ac.cr/wp-content/themes/cummins/images/logo-es.png)\n",
    "### Curso de Programación aplicada a la agricultura\n",
    "### Material de apoyo Tema Dos Análisis de datos \n",
    "### Jupyter_1. Pandas & Matplotlib\n",
    "\n",
    "![image](https://matplotlib.org/stable/_static/images/logo_dark.svg)\n",
    "\n",
    "#### Documentación en:\n",
    "\n",
    "https://pandas.pydata.org/ \n",
    "\n",
    "https://matplotlib.org/stable/index.html\n",
    "\n",
    "\n",
    "### Preparado por:\n",
    "Prof. Gregory Guevara, \n",
    "Enero 2023, gguevara@earth.ac.cr"
   ]
  },
  {
   "cell_type": "code",
   "execution_count": 1,
   "id": "a57d38b4-1ca6-45ea-b684-988596be8c3d",
   "metadata": {},
   "outputs": [
    {
     "name": "stdout",
     "output_type": "stream",
     "text": [
      "Empty DataFrame\n",
      "Columns: []\n",
      "Index: []\n"
     ]
    }
   ],
   "source": [
    "import pandas as pd \n",
    "#crear un archivo panda\n",
    "\n",
    "df=pd.DataFrame()\n",
    "\n",
    "print (df)\n",
    "\n"
   ]
  },
  {
   "cell_type": "code",
   "execution_count": 2,
   "id": "a7c3d3de",
   "metadata": {},
   "outputs": [
    {
     "name": "stdout",
     "output_type": "stream",
     "text": [
      "Empty DataFrame\n",
      "Columns: [Y, X, sumaX, cuadradoX, categoria, potencia_inversa]\n",
      "Index: []\n"
     ]
    }
   ],
   "source": [
    "#Introduccion de columnas\n",
    "df[\"Y\"]=0\n",
    "df[\"X\"]=0\n",
    "df[\"sumaX\"]=0\n",
    "df[\"cuadradoX\"]=0\n",
    "df[\"categoria\"]=0\n",
    "df[\"potencia_inversa\"]=0\n",
    "print (df)\n"
   ]
  },
  {
   "cell_type": "code",
   "execution_count": 3,
   "id": "3c84b282",
   "metadata": {},
   "outputs": [
    {
     "name": "stdout",
     "output_type": "stream",
     "text": [
      "     Y     X  sumaX  cuadradoX  categoria  potencia_inversa\n",
      "1  NaN   1.0    NaN        NaN        1.0               NaN\n",
      "2  NaN   2.0    NaN        NaN        2.0               NaN\n",
      "3  NaN   3.0    NaN        NaN        1.0               NaN\n",
      "4  NaN   4.0    NaN        NaN        2.0               NaN\n",
      "5  NaN   5.0    NaN        NaN        1.0               NaN\n",
      "6  NaN   6.0    NaN        NaN        2.0               NaN\n",
      "7  NaN   7.0    NaN        NaN        1.0               NaN\n",
      "8  NaN   8.0    NaN        NaN        2.0               NaN\n",
      "9  NaN   9.0    NaN        NaN        1.0               NaN\n",
      "10 NaN  10.0    NaN        NaN        2.0               NaN\n"
     ]
    }
   ],
   "source": [
    "# crear una lista de valores del 1 al n\n",
    "n=10\n",
    "for j in range(1,n+1):\n",
    "    df.at[j,'X']=j\n",
    "    if j%2==0: #generacion de una columna con datos categoricos \n",
    "        df.at[j,'categoria']=2\n",
    "    else:\n",
    "        df.at[j,'categoria']=1\n",
    "print (df)\n",
    "\n"
   ]
  },
  {
   "cell_type": "code",
   "execution_count": 4,
   "id": "28c685d7",
   "metadata": {},
   "outputs": [
    {
     "name": "stdout",
     "output_type": "stream",
     "text": [
      "     Y     X  sumaX  cuadradoX  categoria  potencia_inversa\n",
      "1  NaN   1.0    1.0        1.0        1.0          1.000000\n",
      "2  NaN   2.0    3.0        4.0        2.0          0.574349\n",
      "3  NaN   3.0    6.0        9.0        1.0          0.415244\n",
      "4  NaN   4.0   10.0       16.0        2.0          0.329877\n",
      "5  NaN   5.0   15.0       25.0        1.0          0.275946\n",
      "6  NaN   6.0   21.0       36.0        2.0          0.238495\n",
      "7  NaN   7.0   28.0       49.0        1.0          0.210825\n",
      "8  NaN   8.0   36.0       64.0        2.0          0.189465\n",
      "9  NaN   9.0   45.0       81.0        1.0          0.172427\n",
      "10 NaN  10.0   55.0      100.0        2.0          0.158489\n"
     ]
    }
   ],
   "source": [
    "# llenar columnas con fórmulas \n",
    "df['sumaX']=df['X'].cumsum()\n",
    "df['cuadradoX']=df['X']**2\n",
    "df['potencia_inversa']=df['X']**-0.8\n",
    "print (df)"
   ]
  },
  {
   "cell_type": "code",
   "execution_count": 5,
   "id": "929afffd",
   "metadata": {},
   "outputs": [
    {
     "name": "stdout",
     "output_type": "stream",
     "text": [
      "       Y     X  sumaX  cuadradoX  categoria  potencia_inversa\n",
      "1    4.0   1.0    1.0        1.0        1.0          1.000000\n",
      "2    5.0   2.0    3.0        4.0        2.0          0.574349\n",
      "3    6.0   3.0    6.0        9.0        1.0          0.415244\n",
      "4    7.0   4.0   10.0       16.0        2.0          0.329877\n",
      "5    8.0   5.0   15.0       25.0        1.0          0.275946\n",
      "6    9.0   6.0   21.0       36.0        2.0          0.238495\n",
      "7   10.0   7.0   28.0       49.0        1.0          0.210825\n",
      "8   11.0   8.0   36.0       64.0        2.0          0.189465\n",
      "9   12.0   9.0   45.0       81.0        1.0          0.172427\n",
      "10  13.0  10.0   55.0      100.0        2.0          0.158489\n"
     ]
    }
   ],
   "source": [
    "# Funcion lineal de Y = x*m+ b\n",
    "m=1\n",
    "b=3\n",
    "\n",
    "\n",
    "df['Y']=df['X']*m+b\n",
    "\n",
    "print (df)"
   ]
  },
  {
   "cell_type": "code",
   "execution_count": 6,
   "id": "392e4b1f",
   "metadata": {},
   "outputs": [
    {
     "name": "stdout",
     "output_type": "stream",
     "text": [
      "(10, 6)\n",
      "<bound method DataFrame.info of        Y     X  sumaX  cuadradoX  categoria  potencia_inversa\n",
      "1    4.0   1.0    1.0        1.0        1.0          1.000000\n",
      "2    5.0   2.0    3.0        4.0        2.0          0.574349\n",
      "3    6.0   3.0    6.0        9.0        1.0          0.415244\n",
      "4    7.0   4.0   10.0       16.0        2.0          0.329877\n",
      "5    8.0   5.0   15.0       25.0        1.0          0.275946\n",
      "6    9.0   6.0   21.0       36.0        2.0          0.238495\n",
      "7   10.0   7.0   28.0       49.0        1.0          0.210825\n",
      "8   11.0   8.0   36.0       64.0        2.0          0.189465\n",
      "9   12.0   9.0   45.0       81.0        1.0          0.172427\n",
      "10  13.0  10.0   55.0      100.0        2.0          0.158489>\n"
     ]
    },
    {
     "data": {
      "text/html": [
       "<div>\n",
       "<style scoped>\n",
       "    .dataframe tbody tr th:only-of-type {\n",
       "        vertical-align: middle;\n",
       "    }\n",
       "\n",
       "    .dataframe tbody tr th {\n",
       "        vertical-align: top;\n",
       "    }\n",
       "\n",
       "    .dataframe thead th {\n",
       "        text-align: right;\n",
       "    }\n",
       "</style>\n",
       "<table border=\"1\" class=\"dataframe\">\n",
       "  <thead>\n",
       "    <tr style=\"text-align: right;\">\n",
       "      <th></th>\n",
       "      <th>Y</th>\n",
       "      <th>X</th>\n",
       "      <th>sumaX</th>\n",
       "      <th>cuadradoX</th>\n",
       "      <th>categoria</th>\n",
       "      <th>potencia_inversa</th>\n",
       "    </tr>\n",
       "  </thead>\n",
       "  <tbody>\n",
       "    <tr>\n",
       "      <th>count</th>\n",
       "      <td>10.00000</td>\n",
       "      <td>10.00000</td>\n",
       "      <td>10.0000</td>\n",
       "      <td>10.000000</td>\n",
       "      <td>10.000000</td>\n",
       "      <td>10.000000</td>\n",
       "    </tr>\n",
       "    <tr>\n",
       "      <th>mean</th>\n",
       "      <td>8.50000</td>\n",
       "      <td>5.50000</td>\n",
       "      <td>22.0000</td>\n",
       "      <td>38.500000</td>\n",
       "      <td>1.500000</td>\n",
       "      <td>0.356512</td>\n",
       "    </tr>\n",
       "    <tr>\n",
       "      <th>std</th>\n",
       "      <td>3.02765</td>\n",
       "      <td>3.02765</td>\n",
       "      <td>18.5652</td>\n",
       "      <td>34.173577</td>\n",
       "      <td>0.527046</td>\n",
       "      <td>0.259987</td>\n",
       "    </tr>\n",
       "    <tr>\n",
       "      <th>min</th>\n",
       "      <td>4.00000</td>\n",
       "      <td>1.00000</td>\n",
       "      <td>1.0000</td>\n",
       "      <td>1.000000</td>\n",
       "      <td>1.000000</td>\n",
       "      <td>0.158489</td>\n",
       "    </tr>\n",
       "    <tr>\n",
       "      <th>25%</th>\n",
       "      <td>6.25000</td>\n",
       "      <td>3.25000</td>\n",
       "      <td>7.0000</td>\n",
       "      <td>10.750000</td>\n",
       "      <td>1.000000</td>\n",
       "      <td>0.194805</td>\n",
       "    </tr>\n",
       "    <tr>\n",
       "      <th>50%</th>\n",
       "      <td>8.50000</td>\n",
       "      <td>5.50000</td>\n",
       "      <td>18.0000</td>\n",
       "      <td>30.500000</td>\n",
       "      <td>1.500000</td>\n",
       "      <td>0.257220</td>\n",
       "    </tr>\n",
       "    <tr>\n",
       "      <th>75%</th>\n",
       "      <td>10.75000</td>\n",
       "      <td>7.75000</td>\n",
       "      <td>34.0000</td>\n",
       "      <td>60.250000</td>\n",
       "      <td>2.000000</td>\n",
       "      <td>0.393902</td>\n",
       "    </tr>\n",
       "    <tr>\n",
       "      <th>max</th>\n",
       "      <td>13.00000</td>\n",
       "      <td>10.00000</td>\n",
       "      <td>55.0000</td>\n",
       "      <td>100.000000</td>\n",
       "      <td>2.000000</td>\n",
       "      <td>1.000000</td>\n",
       "    </tr>\n",
       "  </tbody>\n",
       "</table>\n",
       "</div>"
      ],
      "text/plain": [
       "              Y         X    sumaX   cuadradoX  categoria  potencia_inversa\n",
       "count  10.00000  10.00000  10.0000   10.000000  10.000000         10.000000\n",
       "mean    8.50000   5.50000  22.0000   38.500000   1.500000          0.356512\n",
       "std     3.02765   3.02765  18.5652   34.173577   0.527046          0.259987\n",
       "min     4.00000   1.00000   1.0000    1.000000   1.000000          0.158489\n",
       "25%     6.25000   3.25000   7.0000   10.750000   1.000000          0.194805\n",
       "50%     8.50000   5.50000  18.0000   30.500000   1.500000          0.257220\n",
       "75%    10.75000   7.75000  34.0000   60.250000   2.000000          0.393902\n",
       "max    13.00000  10.00000  55.0000  100.000000   2.000000          1.000000"
      ]
     },
     "execution_count": 6,
     "metadata": {},
     "output_type": "execute_result"
    }
   ],
   "source": [
    "print (df.shape)\n",
    "print (df.info)\n",
    "df.describe ()\n",
    "\n"
   ]
  },
  {
   "cell_type": "code",
   "execution_count": 7,
   "id": "6217a6b0",
   "metadata": {},
   "outputs": [
    {
     "name": "stdout",
     "output_type": "stream",
     "text": [
      "             Y    X  sumaX  cuadradoX  potencia_inversa\n",
      "categoria                                              \n",
      "1.0        8.0  5.0   19.0       33.0          0.414888\n",
      "2.0        9.0  6.0   25.0       44.0          0.298135\n",
      "*********************\n",
      "       Y     X  sumaX  cuadradoX  categoria  potencia_inversa\n",
      "10  13.0  10.0   55.0      100.0        2.0          0.158489\n",
      "9   12.0   9.0   45.0       81.0        1.0          0.172427\n",
      "8   11.0   8.0   36.0       64.0        2.0          0.189465\n",
      "7   10.0   7.0   28.0       49.0        1.0          0.210825\n",
      "6    9.0   6.0   21.0       36.0        2.0          0.238495\n",
      "5    8.0   5.0   15.0       25.0        1.0          0.275946\n",
      "4    7.0   4.0   10.0       16.0        2.0          0.329877\n",
      "3    6.0   3.0    6.0        9.0        1.0          0.415244\n",
      "2    5.0   2.0    3.0        4.0        2.0          0.574349\n",
      "1    4.0   1.0    1.0        1.0        1.0          1.000000\n"
     ]
    }
   ],
   "source": [
    "# resumir datos por categorias \n",
    "\n",
    "df_categoria=df.groupby('categoria').mean()\n",
    "print (df_categoria)\n",
    "print (\"*********************\")\n",
    "\n",
    "#ordener los datos \n",
    "df_ordenados=df.sort_values(by='potencia_inversa')\n",
    "print(df_ordenados)"
   ]
  },
  {
   "cell_type": "code",
   "execution_count": 8,
   "id": "2c818651",
   "metadata": {},
   "outputs": [
    {
     "name": "stdout",
     "output_type": "stream",
     "text": [
      "     Y    X  sumaX  cuadradoX  categoria  potencia_inversa\n",
      "2  5.0  2.0    3.0        4.0        2.0          0.574349\n",
      "3  6.0  3.0    6.0        9.0        1.0          0.415244\n",
      "4  7.0  4.0   10.0       16.0        2.0          0.329877\n"
     ]
    }
   ],
   "source": [
    "#permitir recortes por filas \n",
    "df_recorte=df.iloc[1:4]\n",
    "print (df_recorte)"
   ]
  },
  {
   "cell_type": "code",
   "execution_count": 9,
   "id": "038dc06e",
   "metadata": {},
   "outputs": [
    {
     "name": "stdout",
     "output_type": "stream",
     "text": [
      "Y                   4.0\n",
      "X                   1.0\n",
      "sumaX               1.0\n",
      "cuadradoX           1.0\n",
      "categoria           1.0\n",
      "potencia_inversa    1.0\n",
      "Name: 1, dtype: float64\n",
      "********************\n",
      "Y                   5.000000\n",
      "X                   2.000000\n",
      "sumaX               3.000000\n",
      "cuadradoX           4.000000\n",
      "categoria           2.000000\n",
      "potencia_inversa    0.574349\n",
      "Name: 2, dtype: float64\n"
     ]
    }
   ],
   "source": [
    "#permitir recortes por filas \n",
    "df_recorte=df.iloc[0]\n",
    "print (df_recorte)\n",
    "print(\"********************\")\n",
    "#permitir recortes por filas \n",
    "df_recorte=df.iloc[1]\n",
    "print (df_recorte)"
   ]
  },
  {
   "cell_type": "code",
   "execution_count": 10,
   "id": "d830e1a9",
   "metadata": {},
   "outputs": [
    {
     "name": "stdout",
     "output_type": "stream",
     "text": [
      "6.0\n"
     ]
    }
   ],
   "source": [
    "#permite conocer un valor especifico\n",
    "valor_recorte=df.loc[3,\"sumaX\"]\n",
    "print (valor_recorte)"
   ]
  },
  {
   "cell_type": "code",
   "execution_count": 11,
   "id": "52d5d6d6",
   "metadata": {},
   "outputs": [
    {
     "data": {
      "text/plain": [
       "<function matplotlib.pyplot.show(close=None, block=None)>"
      ]
     },
     "execution_count": 11,
     "metadata": {},
     "output_type": "execute_result"
    },
    {
     "data": {
      "image/png": "[encoded data removed]",
      "text/plain": [
       "<Figure size 576x432 with 1 Axes>"
      ]
     },
     "metadata": {
      "needs_background": "light"
     },
     "output_type": "display_data"
    }
   ],
   "source": [
    "import matplotlib.pyplot as plt\n",
    "import matplotlib\n",
    "import seaborn as sns\n",
    "fig =plt.figure(figsize=(8,6))\n",
    "ax = fig.add_subplot(111)\n",
    "\n",
    "ax.plot(df['X'],df['Y'])\n",
    "plt.ylabel('Y')\n",
    "plt.xlabel('X')\n",
    "plt.title('Ecuación lineal')\n",
    "plt.show"
   ]
  },
  {
   "cell_type": "code",
   "execution_count": 12,
   "id": "2df66e18",
   "metadata": {},
   "outputs": [
    {
     "data": {
      "text/plain": [
       "<function matplotlib.pyplot.show(close=None, block=None)>"
      ]
     },
     "execution_count": 12,
     "metadata": {},
     "output_type": "execute_result"
    },
    {
     "data": {
      "image/png": "[encoded data removed]",
      "text/plain": [
       "<Figure size 576x432 with 2 Axes>"
      ]
     },
     "metadata": {
      "needs_background": "light"
     },
     "output_type": "display_data"
    }
   ],
   "source": [
    "fig =plt.figure(figsize=(8,6))\n",
    "\n",
    "ax1 = fig.add_subplot(121)\n",
    "ax1.plot(df['X'],df['Y'])\n",
    "plt.ylabel('Y')\n",
    "plt.xlabel('X')\n",
    "plt.title('Ecuación lineal')\n",
    "\n",
    "ax2 = fig.add_subplot(122)\n",
    "ax2.bar(df['X'],df['Y'])\n",
    "plt.ylabel('Y')\n",
    "plt.xlabel('X')\n",
    "plt.title('Ecuación lineal')\n",
    "\n",
    "plt.show\n",
    "\n",
    "\n"
   ]
  },
  {
   "cell_type": "code",
   "execution_count": 13,
   "id": "1a7264c9",
   "metadata": {},
   "outputs": [
    {
     "data": {
      "text/plain": [
       "<function matplotlib.pyplot.show(close=None, block=None)>"
      ]
     },
     "execution_count": 13,
     "metadata": {},
     "output_type": "execute_result"
    },
    {
     "data": {
      "image/png": "[encoded data removed]",
      "text/plain": [
       "<Figure size 576x432 with 1 Axes>"
      ]
     },
     "metadata": {
      "needs_background": "light"
     },
     "output_type": "display_data"
    }
   ],
   "source": [
    "fig =plt.figure(figsize=(8,6))\n",
    "\n",
    "ax1 = fig.add_subplot(111)\n",
    "ax1.plot(df['X'],df['Y'],color='red',linestyle='--',  label='linea puntos')\n",
    "plt.ylabel('Y')\n",
    "plt.xlabel('X')\n",
    "plt.title('Ecuación lineal')\n",
    "\n",
    "ax1.bar(df['X'],df['Y'],color='green',label='barras')\n",
    "plt.ylabel('Y')\n",
    "plt.xlabel('X')\n",
    "plt.title('Ecuación lineal')\n",
    "ax1.legend()\n",
    "plt.show"
   ]
  },
  {
   "cell_type": "code",
   "execution_count": 14,
   "id": "f3f48bd9",
   "metadata": {},
   "outputs": [
    {
     "data": {
      "text/plain": [
       "<function matplotlib.pyplot.show(close=None, block=None)>"
      ]
     },
     "execution_count": 14,
     "metadata": {},
     "output_type": "execute_result"
    },
    {
     "data": {
      "image/png": "[encoded data removed]",
      "text/plain": [
       "<Figure size 576x432 with 4 Axes>"
      ]
     },
     "metadata": {
      "needs_background": "light"
     },
     "output_type": "display_data"
    }
   ],
   "source": [
    "fig =plt.figure(figsize=(8,6))\n",
    "\n",
    "ax1 = fig.add_subplot(221)\n",
    "ax1.plot(df['X'],df['Y'])\n",
    "plt.ylabel('Y')\n",
    "plt.xlabel('X')\n",
    "plt.title('Ecuación lineal')\n",
    "\n",
    "ax2 = fig.add_subplot(222)\n",
    "ax2.bar(df['X'],df['Y'])\n",
    "plt.ylabel('Y')\n",
    "plt.xlabel('X')\n",
    "plt.title('Ecuación lineal')\n",
    "\n",
    "ax2 = fig.add_subplot(223)\n",
    "ax2.scatter(df['X'],df['Y'])\n",
    "plt.ylabel('Y')\n",
    "plt.xlabel('X')\n",
    "plt.title('Ecuación lineal')\n",
    "\n",
    "\n",
    "ax4 = fig.add_subplot(224)\n",
    "ax4=sns.boxplot(x='categoria', y='sumaX', data=df, color='#99c2a2')\n",
    "plt.ylabel('Y')\n",
    "plt.xlabel('X')\n",
    "plt.title('Ecuación lineal')\n",
    "\n",
    "plt.show\n"
   ]
  },
  {
   "cell_type": "code",
   "execution_count": null,
   "id": "baf71fdd",
   "metadata": {},
   "outputs": [],
   "source": []
  },
  {
   "cell_type": "code",
   "execution_count": null,
   "id": "f65092d2",
   "metadata": {},
   "outputs": [],
   "source": []
  }
 ],
 "metadata": {
  "kernelspec": {
   "display_name": "Python 3 (ipykernel)",
   "language": "python",
   "name": "python3"
  },
  "language_info": {
   "codemirror_mode": {
    "name": "ipython",
    "version": 3
   },
   "file_extension": ".py",
   "mimetype": "text/x-python",
   "name": "python",
   "nbconvert_exporter": "python",
   "pygments_lexer": "ipython3",
   "version": "3.9.13"
  }
 },
 "nbformat": 4,
 "nbformat_minor": 5
}
